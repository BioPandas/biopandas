{
 "cells": [
  {
   "cell_type": "markdown",
   "metadata": {},
   "source": [
    "BioPandas\n",
    "\n",
    "Author: Sebastian Raschka <mail@sebastianraschka.com>  \n",
    "License: BSD 3 clause  \n",
    "Project Website: http://rasbt.github.io/biopandas/  \n",
    "Code Repository: https://github.com/rasbt/biopandas  "
   ]
  },
  {
   "cell_type": "code",
   "execution_count": 1,
   "metadata": {},
   "outputs": [
    {
     "name": "stdout",
     "output_type": "stream",
     "text": [
      "Last updated: 2021-03-02\n",
      "\n",
      "pandas   : 1.2.2\n",
      "biopandas: 0.2.8\n",
      "\n"
     ]
    }
   ],
   "source": [
    "%load_ext watermark\n",
    "%watermark -d -u -p pandas,biopandas"
   ]
  },
  {
   "cell_type": "code",
   "execution_count": 2,
   "metadata": {},
   "outputs": [],
   "source": [
    "from biopandas.mol2 import PandasMol2\n",
    "import pandas as pd\n",
    "pd.set_option('display.width', 600)\n",
    "pd.set_option('display.max_columns', 8)"
   ]
  },
  {
   "cell_type": "markdown",
   "metadata": {},
   "source": [
    "# Working with MOL2 Structures in DataFrames"
   ]
  },
  {
   "cell_type": "markdown",
   "metadata": {},
   "source": [
    "The Tripos MOL2 format is a common format for working with small molecules. In this tutorial, we will go over some examples that illustrate how we can use Biopandas' MOL2 DataFrames to analyze molecules conveniently."
   ]
  },
  {
   "cell_type": "markdown",
   "metadata": {},
   "source": [
    "## Loading MOL2 Files"
   ]
  },
  {
   "cell_type": "markdown",
   "metadata": {},
   "source": [
    "Using the `read_mol2` method, we can read MOL2 files from standard .mol2 text files:"
   ]
  },
  {
   "cell_type": "code",
   "execution_count": 3,
   "metadata": {},
   "outputs": [],
   "source": [
    "from biopandas.mol2 import PandasMol2\n",
    "\n",
    "pmol = PandasMol2().read_mol2('./data/1b5e_1.mol2')"
   ]
  },
  {
   "cell_type": "markdown",
   "metadata": {},
   "source": [
    "[File link: [1b5e_1.mol2](https://raw.githubusercontent.com/rasbt/biopandas/master/docs/sources/tutorials/data/1b5e_1.mol2)]"
   ]
  },
  {
   "cell_type": "markdown",
   "metadata": {},
   "source": [
    "The `read_mol2` method can also load structures from `.mol2.gz` files, but if you have a multi-mol2 file, keep in mind that it will only fetch the first molecule in this file. In the section \"[Parsing Multi-MOL2 files](#parsing-multi-mol2-files),\" we will see how we can parse files that contain multiple structures."
   ]
  },
  {
   "cell_type": "code",
   "execution_count": 4,
   "metadata": {},
   "outputs": [],
   "source": [
    "pmol = PandasMol2().read_mol2('./data/40_mol2_files.mol2.gz')"
   ]
  },
  {
   "cell_type": "markdown",
   "metadata": {},
   "source": [
    "[File link: [40_mol2_files.mol2.gz](https://github.com/rasbt/biopandas/blob/master/docs/sources/tutorials/data/40_mol2_files.mol2.gz?raw=true)]"
   ]
  },
  {
   "cell_type": "markdown",
   "metadata": {},
   "source": [
    "After the file was succesfully loaded, we have access to the following basic `PandasMol2` attributes:"
   ]
  },
  {
   "cell_type": "code",
   "execution_count": 5,
   "metadata": {},
   "outputs": [
    {
     "name": "stdout",
     "output_type": "stream",
     "text": [
      "Molecule ID: ZINC38611810\n",
      "\n",
      "Raw MOL2 file contents:\n",
      "\n",
      "@<TRIPOS>MOLECULE\n",
      "ZINC38611810\n",
      "   65    68     0     0     0\n",
      "SMALL\n",
      "NO_CHARGES\n",
      "\n",
      "@<TRIPOS>ATOM\n",
      "      1 C1         -1.1786    2.7011   -4.0323 C.3       1 <0>        -0.1537\n",
      "      2 C2         -1.2950    1.2442   -3.5798 C.3       1 <0>        -0.1156\n",
      "      3 C3         -0.1742    0.4209   -4.2178 C.3       1 <0>        -0.1141\n",
      "      4 C4         -0.2887   -1.0141   -3.7721 C.2       1 <0>         0.4504\n",
      "      5 O1         -1.1758   -1.3445   -3.0212 O.2       1 <0>        -0.4896\n",
      "      6 O2       \n",
      "...\n"
     ]
    }
   ],
   "source": [
    "print('Molecule ID: %s' % pmol.code)\n",
    "print('\\nRaw MOL2 file contents:\\n\\n%s\\n...' % pmol.mol2_text[:500])"
   ]
  },
  {
   "cell_type": "markdown",
   "metadata": {},
   "source": [
    "The most interesting and useful attribute, however, is the [`PandasMol2.df`](../api/biopandas.mol2#pandasmol2df) DataFrame, which contains the ATOM section of the MOL2 structure. Let's print the first 3 lines from the `ATOM` coordinate section to see how it looks like:"
   ]
  },
  {
   "cell_type": "code",
   "execution_count": 6,
   "metadata": {},
   "outputs": [
    {
     "data": {
      "text/html": [
       "<div>\n",
       "<style scoped>\n",
       "    .dataframe tbody tr th:only-of-type {\n",
       "        vertical-align: middle;\n",
       "    }\n",
       "\n",
       "    .dataframe tbody tr th {\n",
       "        vertical-align: top;\n",
       "    }\n",
       "\n",
       "    .dataframe thead th {\n",
       "        text-align: right;\n",
       "    }\n",
       "</style>\n",
       "<table border=\"1\" class=\"dataframe\">\n",
       "  <thead>\n",
       "    <tr style=\"text-align: right;\">\n",
       "      <th></th>\n",
       "      <th>atom_id</th>\n",
       "      <th>atom_name</th>\n",
       "      <th>x</th>\n",
       "      <th>y</th>\n",
       "      <th>...</th>\n",
       "      <th>atom_type</th>\n",
       "      <th>subst_id</th>\n",
       "      <th>subst_name</th>\n",
       "      <th>charge</th>\n",
       "    </tr>\n",
       "  </thead>\n",
       "  <tbody>\n",
       "    <tr>\n",
       "      <th>0</th>\n",
       "      <td>1</td>\n",
       "      <td>C1</td>\n",
       "      <td>-1.1786</td>\n",
       "      <td>2.7011</td>\n",
       "      <td>...</td>\n",
       "      <td>C.3</td>\n",
       "      <td>1</td>\n",
       "      <td>&lt;0&gt;</td>\n",
       "      <td>-0.1537</td>\n",
       "    </tr>\n",
       "    <tr>\n",
       "      <th>1</th>\n",
       "      <td>2</td>\n",
       "      <td>C2</td>\n",
       "      <td>-1.2950</td>\n",
       "      <td>1.2442</td>\n",
       "      <td>...</td>\n",
       "      <td>C.3</td>\n",
       "      <td>1</td>\n",
       "      <td>&lt;0&gt;</td>\n",
       "      <td>-0.1156</td>\n",
       "    </tr>\n",
       "    <tr>\n",
       "      <th>2</th>\n",
       "      <td>3</td>\n",
       "      <td>C3</td>\n",
       "      <td>-0.1742</td>\n",
       "      <td>0.4209</td>\n",
       "      <td>...</td>\n",
       "      <td>C.3</td>\n",
       "      <td>1</td>\n",
       "      <td>&lt;0&gt;</td>\n",
       "      <td>-0.1141</td>\n",
       "    </tr>\n",
       "  </tbody>\n",
       "</table>\n",
       "<p>3 rows × 9 columns</p>\n",
       "</div>"
      ],
      "text/plain": [
       "   atom_id atom_name       x       y  ...  atom_type subst_id  subst_name  charge\n",
       "0        1        C1 -1.1786  2.7011  ...        C.3        1         <0> -0.1537\n",
       "1        2        C2 -1.2950  1.2442  ...        C.3        1         <0> -0.1156\n",
       "2        3        C3 -0.1742  0.4209  ...        C.3        1         <0> -0.1141\n",
       "\n",
       "[3 rows x 9 columns]"
      ]
     },
     "execution_count": 6,
     "metadata": {},
     "output_type": "execute_result"
    }
   ],
   "source": [
    "pmol.df.head(3)"
   ]
  },
  {
   "cell_type": "markdown",
   "metadata": {},
   "source": [
    "## The MOL2 Data Format"
   ]
  },
  {
   "cell_type": "markdown",
   "metadata": {},
   "source": [
    "`PandasMol2` expects the MOL2 file to be in the standard Tripos MOL2 format, and most importantly, that the \"@<TRIPOS>ATOM\" section is consistent with the following format convention:\n",
    "\n",
    "\n",
    "> Format:\n",
    "     **atom_id atom_name x y z atom_type [subst_id\n",
    "        [subst_name [charge [status_bit]]]]**\n",
    "       \n",
    "> - atom_id (integer) = the ID number of the atom at the time the file was created. This is provided for reference only and is not used when the .mol2 file is read into SYBYL.\n",
    "- atom_name (string) = the name of the atom.\n",
    "- x (real) = the x coordinate of the atom.\n",
    "- y (real) = the y coordinate of the atom.\n",
    "- z (real) = the z coordinate of the atom.\n",
    "- atom_type (string) = the SYBYL atom type for the atom.\n",
    "- subst_id (integer) = the ID number of the substructure containing the atom.\n",
    "- subst_name (string) = the name of the substructure containing the atom.\n",
    "- charge (real) = the charge associated with the atom.\n",
    "- status_bit (string) = the internal SYBYL status bits associated with the atom. These should never be set by the user. Valid status bits are DSPMOD, TYPECOL, CAP, BACKBONE, DICT, ESSENTIAL, WATER and DIRECT.\n",
    "\n",
    "For example, the contents of a typical Tripos MOL2 file may look like this:\n",
    "\n",
    "```\n",
    "@<TRIPOS>MOLECULE\n",
    "DCM Pose 1\n",
    "   32    33     0     0     0\n",
    "SMALL\n",
    "USER_CHARGES\n",
    "@<TRIPOS>ATOM\n",
    "      1 C1         18.8934    5.5819   24.1747 C.2       1 <0>       -0.1356 \n",
    "      2 C2         18.1301    4.7642   24.8969 C.2       1 <0>       -0.0410 \n",
    "      3 C3         18.2645    6.8544   23.7342 C.2       1 <0>        0.4856 \n",
    "...\n",
    "     31 H11        18.5977    8.5756   22.6932 H         1 <0>        0.4000 \n",
    "     32 H12        14.2530    1.0535   27.4278 H         1 <0>        0.4000 \n",
    "@<TRIPOS>BOND\n",
    "    1     1     2 2\n",
    "    2     1     3 1\n",
    "    3     2    11 1\n",
    "    4     3    10 2\n",
    "    5     3    12 1\n",
    "...\n",
    "   28     8    27 1\n",
    "   29     9    28 1\n",
    "   30     9    29 1\n",
    "   31    12    30 1\n",
    "   32    12    31 1\n",
    "   33    18    32 1\n",
    "```"
   ]
  },
  {
   "cell_type": "markdown",
   "metadata": {},
   "source": [
    "## Working with MOL2 DataFrames"
   ]
  },
  {
   "cell_type": "markdown",
   "metadata": {},
   "source": [
    "In the previous sections, we've seen how to load MOL2 structures into DataFrames and how to access them. Once, we have the ATOM section of a MOL2 file in a DataFrame format, we can readily slice and dice the molecular structure and analyze it.\n",
    "To demonstrate some typical use cases, let us load the structure of deoxycytidylate hydroxymethylase (DCM), which is shown in the figure below:\n",
    "\n",
    "![](./img/1b5e_1.png)"
   ]
  },
  {
   "cell_type": "code",
   "execution_count": 7,
   "metadata": {},
   "outputs": [
    {
     "data": {
      "text/html": [
       "<div>\n",
       "<style scoped>\n",
       "    .dataframe tbody tr th:only-of-type {\n",
       "        vertical-align: middle;\n",
       "    }\n",
       "\n",
       "    .dataframe tbody tr th {\n",
       "        vertical-align: top;\n",
       "    }\n",
       "\n",
       "    .dataframe thead th {\n",
       "        text-align: right;\n",
       "    }\n",
       "</style>\n",
       "<table border=\"1\" class=\"dataframe\">\n",
       "  <thead>\n",
       "    <tr style=\"text-align: right;\">\n",
       "      <th></th>\n",
       "      <th>atom_id</th>\n",
       "      <th>atom_name</th>\n",
       "      <th>x</th>\n",
       "      <th>y</th>\n",
       "      <th>...</th>\n",
       "      <th>atom_type</th>\n",
       "      <th>subst_id</th>\n",
       "      <th>subst_name</th>\n",
       "      <th>charge</th>\n",
       "    </tr>\n",
       "  </thead>\n",
       "  <tbody>\n",
       "    <tr>\n",
       "      <th>22</th>\n",
       "      <td>23</td>\n",
       "      <td>H3</td>\n",
       "      <td>15.8520</td>\n",
       "      <td>2.8983</td>\n",
       "      <td>...</td>\n",
       "      <td>H</td>\n",
       "      <td>1</td>\n",
       "      <td>&lt;0&gt;</td>\n",
       "      <td>0.0</td>\n",
       "    </tr>\n",
       "    <tr>\n",
       "      <th>23</th>\n",
       "      <td>24</td>\n",
       "      <td>H4</td>\n",
       "      <td>14.3405</td>\n",
       "      <td>3.3601</td>\n",
       "      <td>...</td>\n",
       "      <td>H</td>\n",
       "      <td>1</td>\n",
       "      <td>&lt;0&gt;</td>\n",
       "      <td>0.0</td>\n",
       "    </tr>\n",
       "    <tr>\n",
       "      <th>24</th>\n",
       "      <td>25</td>\n",
       "      <td>H5</td>\n",
       "      <td>15.3663</td>\n",
       "      <td>0.9351</td>\n",
       "      <td>...</td>\n",
       "      <td>H</td>\n",
       "      <td>1</td>\n",
       "      <td>&lt;0&gt;</td>\n",
       "      <td>0.0</td>\n",
       "    </tr>\n",
       "    <tr>\n",
       "      <th>25</th>\n",
       "      <td>26</td>\n",
       "      <td>H6</td>\n",
       "      <td>16.6681</td>\n",
       "      <td>1.6130</td>\n",
       "      <td>...</td>\n",
       "      <td>H</td>\n",
       "      <td>1</td>\n",
       "      <td>&lt;0&gt;</td>\n",
       "      <td>0.0</td>\n",
       "    </tr>\n",
       "    <tr>\n",
       "      <th>26</th>\n",
       "      <td>27</td>\n",
       "      <td>H7</td>\n",
       "      <td>15.3483</td>\n",
       "      <td>4.6961</td>\n",
       "      <td>...</td>\n",
       "      <td>H</td>\n",
       "      <td>1</td>\n",
       "      <td>&lt;0&gt;</td>\n",
       "      <td>0.0</td>\n",
       "    </tr>\n",
       "    <tr>\n",
       "      <th>27</th>\n",
       "      <td>28</td>\n",
       "      <td>H8</td>\n",
       "      <td>18.8490</td>\n",
       "      <td>1.8078</td>\n",
       "      <td>...</td>\n",
       "      <td>H</td>\n",
       "      <td>1</td>\n",
       "      <td>&lt;0&gt;</td>\n",
       "      <td>0.0</td>\n",
       "    </tr>\n",
       "    <tr>\n",
       "      <th>28</th>\n",
       "      <td>29</td>\n",
       "      <td>H9</td>\n",
       "      <td>17.8303</td>\n",
       "      <td>1.5497</td>\n",
       "      <td>...</td>\n",
       "      <td>H</td>\n",
       "      <td>1</td>\n",
       "      <td>&lt;0&gt;</td>\n",
       "      <td>0.0</td>\n",
       "    </tr>\n",
       "    <tr>\n",
       "      <th>29</th>\n",
       "      <td>30</td>\n",
       "      <td>H10</td>\n",
       "      <td>19.9527</td>\n",
       "      <td>7.4708</td>\n",
       "      <td>...</td>\n",
       "      <td>H</td>\n",
       "      <td>1</td>\n",
       "      <td>&lt;0&gt;</td>\n",
       "      <td>0.4</td>\n",
       "    </tr>\n",
       "    <tr>\n",
       "      <th>30</th>\n",
       "      <td>31</td>\n",
       "      <td>H11</td>\n",
       "      <td>18.5977</td>\n",
       "      <td>8.5756</td>\n",
       "      <td>...</td>\n",
       "      <td>H</td>\n",
       "      <td>1</td>\n",
       "      <td>&lt;0&gt;</td>\n",
       "      <td>0.4</td>\n",
       "    </tr>\n",
       "    <tr>\n",
       "      <th>31</th>\n",
       "      <td>32</td>\n",
       "      <td>H12</td>\n",
       "      <td>14.2530</td>\n",
       "      <td>1.0535</td>\n",
       "      <td>...</td>\n",
       "      <td>H</td>\n",
       "      <td>1</td>\n",
       "      <td>&lt;0&gt;</td>\n",
       "      <td>0.4</td>\n",
       "    </tr>\n",
       "  </tbody>\n",
       "</table>\n",
       "<p>10 rows × 9 columns</p>\n",
       "</div>"
      ],
      "text/plain": [
       "    atom_id atom_name        x       y  ...  atom_type subst_id  subst_name charge\n",
       "22       23        H3  15.8520  2.8983  ...          H        1         <0>    0.0\n",
       "23       24        H4  14.3405  3.3601  ...          H        1         <0>    0.0\n",
       "24       25        H5  15.3663  0.9351  ...          H        1         <0>    0.0\n",
       "25       26        H6  16.6681  1.6130  ...          H        1         <0>    0.0\n",
       "26       27        H7  15.3483  4.6961  ...          H        1         <0>    0.0\n",
       "27       28        H8  18.8490  1.8078  ...          H        1         <0>    0.0\n",
       "28       29        H9  17.8303  1.5497  ...          H        1         <0>    0.0\n",
       "29       30       H10  19.9527  7.4708  ...          H        1         <0>    0.4\n",
       "30       31       H11  18.5977  8.5756  ...          H        1         <0>    0.4\n",
       "31       32       H12  14.2530  1.0535  ...          H        1         <0>    0.4\n",
       "\n",
       "[10 rows x 9 columns]"
      ]
     },
     "execution_count": 7,
     "metadata": {},
     "output_type": "execute_result"
    }
   ],
   "source": [
    "from biopandas.mol2 import PandasMol2\n",
    "\n",
    "pmol = PandasMol2()\n",
    "pmol.read_mol2('./data/1b5e_1.mol2')\n",
    "pmol.df.tail(10)"
   ]
  },
  {
   "cell_type": "markdown",
   "metadata": {},
   "source": [
    "[File link: [1b5e_1.mol2](https://raw.githubusercontent.com/rasbt/biopandas/master/docs/sources/tutorials/data/1b5e_1.mol2)]"
   ]
  },
  {
   "cell_type": "markdown",
   "metadata": {},
   "source": [
    "For example, we can select all hydrogen atoms by filtering on the atom type column:"
   ]
  },
  {
   "cell_type": "code",
   "execution_count": 8,
   "metadata": {},
   "outputs": [
    {
     "data": {
      "text/html": [
       "<div>\n",
       "<style scoped>\n",
       "    .dataframe tbody tr th:only-of-type {\n",
       "        vertical-align: middle;\n",
       "    }\n",
       "\n",
       "    .dataframe tbody tr th {\n",
       "        vertical-align: top;\n",
       "    }\n",
       "\n",
       "    .dataframe thead th {\n",
       "        text-align: right;\n",
       "    }\n",
       "</style>\n",
       "<table border=\"1\" class=\"dataframe\">\n",
       "  <thead>\n",
       "    <tr style=\"text-align: right;\">\n",
       "      <th></th>\n",
       "      <th>atom_id</th>\n",
       "      <th>atom_name</th>\n",
       "      <th>x</th>\n",
       "      <th>y</th>\n",
       "      <th>...</th>\n",
       "      <th>atom_type</th>\n",
       "      <th>subst_id</th>\n",
       "      <th>subst_name</th>\n",
       "      <th>charge</th>\n",
       "    </tr>\n",
       "  </thead>\n",
       "  <tbody>\n",
       "    <tr>\n",
       "      <th>10</th>\n",
       "      <td>11</td>\n",
       "      <td>N2</td>\n",
       "      <td>16.8196</td>\n",
       "      <td>5.0644</td>\n",
       "      <td>...</td>\n",
       "      <td>N.am</td>\n",
       "      <td>1</td>\n",
       "      <td>&lt;0&gt;</td>\n",
       "      <td>-0.4691</td>\n",
       "    </tr>\n",
       "    <tr>\n",
       "      <th>11</th>\n",
       "      <td>12</td>\n",
       "      <td>N3</td>\n",
       "      <td>19.0194</td>\n",
       "      <td>7.7275</td>\n",
       "      <td>...</td>\n",
       "      <td>N.pl3</td>\n",
       "      <td>1</td>\n",
       "      <td>&lt;0&gt;</td>\n",
       "      <td>-0.8500</td>\n",
       "    </tr>\n",
       "    <tr>\n",
       "      <th>12</th>\n",
       "      <td>13</td>\n",
       "      <td>O1</td>\n",
       "      <td>18.7676</td>\n",
       "      <td>-2.3524</td>\n",
       "      <td>...</td>\n",
       "      <td>O.3</td>\n",
       "      <td>1</td>\n",
       "      <td>&lt;0&gt;</td>\n",
       "      <td>-1.0333</td>\n",
       "    </tr>\n",
       "    <tr>\n",
       "      <th>13</th>\n",
       "      <td>14</td>\n",
       "      <td>O2</td>\n",
       "      <td>20.3972</td>\n",
       "      <td>-0.3812</td>\n",
       "      <td>...</td>\n",
       "      <td>O.3</td>\n",
       "      <td>1</td>\n",
       "      <td>&lt;0&gt;</td>\n",
       "      <td>-1.0333</td>\n",
       "    </tr>\n",
       "    <tr>\n",
       "      <th>14</th>\n",
       "      <td>15</td>\n",
       "      <td>O3</td>\n",
       "      <td>15.0888</td>\n",
       "      <td>6.5824</td>\n",
       "      <td>...</td>\n",
       "      <td>O.2</td>\n",
       "      <td>1</td>\n",
       "      <td>&lt;0&gt;</td>\n",
       "      <td>-0.5700</td>\n",
       "    </tr>\n",
       "    <tr>\n",
       "      <th>15</th>\n",
       "      <td>16</td>\n",
       "      <td>O4</td>\n",
       "      <td>18.9314</td>\n",
       "      <td>-0.7527</td>\n",
       "      <td>...</td>\n",
       "      <td>O.2</td>\n",
       "      <td>1</td>\n",
       "      <td>&lt;0&gt;</td>\n",
       "      <td>-1.0333</td>\n",
       "    </tr>\n",
       "    <tr>\n",
       "      <th>16</th>\n",
       "      <td>17</td>\n",
       "      <td>O5</td>\n",
       "      <td>16.9690</td>\n",
       "      <td>3.4315</td>\n",
       "      <td>...</td>\n",
       "      <td>O.3</td>\n",
       "      <td>1</td>\n",
       "      <td>&lt;0&gt;</td>\n",
       "      <td>-0.5600</td>\n",
       "    </tr>\n",
       "    <tr>\n",
       "      <th>17</th>\n",
       "      <td>18</td>\n",
       "      <td>O6</td>\n",
       "      <td>14.3223</td>\n",
       "      <td>1.8946</td>\n",
       "      <td>...</td>\n",
       "      <td>O.3</td>\n",
       "      <td>1</td>\n",
       "      <td>&lt;0&gt;</td>\n",
       "      <td>-0.6800</td>\n",
       "    </tr>\n",
       "    <tr>\n",
       "      <th>18</th>\n",
       "      <td>19</td>\n",
       "      <td>O7</td>\n",
       "      <td>17.9091</td>\n",
       "      <td>-0.0135</td>\n",
       "      <td>...</td>\n",
       "      <td>O.3</td>\n",
       "      <td>1</td>\n",
       "      <td>&lt;0&gt;</td>\n",
       "      <td>-0.5512</td>\n",
       "    </tr>\n",
       "    <tr>\n",
       "      <th>19</th>\n",
       "      <td>20</td>\n",
       "      <td>P1</td>\n",
       "      <td>19.0969</td>\n",
       "      <td>-0.9440</td>\n",
       "      <td>...</td>\n",
       "      <td>P.3</td>\n",
       "      <td>1</td>\n",
       "      <td>&lt;0&gt;</td>\n",
       "      <td>1.3712</td>\n",
       "    </tr>\n",
       "  </tbody>\n",
       "</table>\n",
       "<p>10 rows × 9 columns</p>\n",
       "</div>"
      ],
      "text/plain": [
       "    atom_id atom_name        x       y  ...  atom_type subst_id  subst_name  charge\n",
       "10       11        N2  16.8196  5.0644  ...       N.am        1         <0> -0.4691\n",
       "11       12        N3  19.0194  7.7275  ...      N.pl3        1         <0> -0.8500\n",
       "12       13        O1  18.7676 -2.3524  ...        O.3        1         <0> -1.0333\n",
       "13       14        O2  20.3972 -0.3812  ...        O.3        1         <0> -1.0333\n",
       "14       15        O3  15.0888  6.5824  ...        O.2        1         <0> -0.5700\n",
       "15       16        O4  18.9314 -0.7527  ...        O.2        1         <0> -1.0333\n",
       "16       17        O5  16.9690  3.4315  ...        O.3        1         <0> -0.5600\n",
       "17       18        O6  14.3223  1.8946  ...        O.3        1         <0> -0.6800\n",
       "18       19        O7  17.9091 -0.0135  ...        O.3        1         <0> -0.5512\n",
       "19       20        P1  19.0969 -0.9440  ...        P.3        1         <0>  1.3712\n",
       "\n",
       "[10 rows x 9 columns]"
      ]
     },
     "execution_count": 8,
     "metadata": {},
     "output_type": "execute_result"
    }
   ],
   "source": [
    "pmol.df[pmol.df['atom_type'] != 'H'].tail(10)"
   ]
  },
  {
   "cell_type": "markdown",
   "metadata": {},
   "source": [
    "Or, if we like  to count the number of keto-groups in this molecule, we can do the following:"
   ]
  },
  {
   "cell_type": "code",
   "execution_count": 9,
   "metadata": {
    "scrolled": true
   },
   "outputs": [
    {
     "name": "stdout",
     "output_type": "stream",
     "text": [
      "number of keto groups: 2\n"
     ]
    },
    {
     "data": {
      "text/html": [
       "<div>\n",
       "<style scoped>\n",
       "    .dataframe tbody tr th:only-of-type {\n",
       "        vertical-align: middle;\n",
       "    }\n",
       "\n",
       "    .dataframe tbody tr th {\n",
       "        vertical-align: top;\n",
       "    }\n",
       "\n",
       "    .dataframe thead th {\n",
       "        text-align: right;\n",
       "    }\n",
       "</style>\n",
       "<table border=\"1\" class=\"dataframe\">\n",
       "  <thead>\n",
       "    <tr style=\"text-align: right;\">\n",
       "      <th></th>\n",
       "      <th>atom_id</th>\n",
       "      <th>atom_name</th>\n",
       "      <th>x</th>\n",
       "      <th>y</th>\n",
       "      <th>...</th>\n",
       "      <th>atom_type</th>\n",
       "      <th>subst_id</th>\n",
       "      <th>subst_name</th>\n",
       "      <th>charge</th>\n",
       "    </tr>\n",
       "  </thead>\n",
       "  <tbody>\n",
       "    <tr>\n",
       "      <th>14</th>\n",
       "      <td>15</td>\n",
       "      <td>O3</td>\n",
       "      <td>15.0888</td>\n",
       "      <td>6.5824</td>\n",
       "      <td>...</td>\n",
       "      <td>O.2</td>\n",
       "      <td>1</td>\n",
       "      <td>&lt;0&gt;</td>\n",
       "      <td>-0.5700</td>\n",
       "    </tr>\n",
       "    <tr>\n",
       "      <th>15</th>\n",
       "      <td>16</td>\n",
       "      <td>O4</td>\n",
       "      <td>18.9314</td>\n",
       "      <td>-0.7527</td>\n",
       "      <td>...</td>\n",
       "      <td>O.2</td>\n",
       "      <td>1</td>\n",
       "      <td>&lt;0&gt;</td>\n",
       "      <td>-1.0333</td>\n",
       "    </tr>\n",
       "  </tbody>\n",
       "</table>\n",
       "<p>2 rows × 9 columns</p>\n",
       "</div>"
      ],
      "text/plain": [
       "    atom_id atom_name        x       y  ...  atom_type subst_id  subst_name  charge\n",
       "14       15        O3  15.0888  6.5824  ...        O.2        1         <0> -0.5700\n",
       "15       16        O4  18.9314 -0.7527  ...        O.2        1         <0> -1.0333\n",
       "\n",
       "[2 rows x 9 columns]"
      ]
     },
     "execution_count": 9,
     "metadata": {},
     "output_type": "execute_result"
    }
   ],
   "source": [
    "keto = pmol.df[pmol.df['atom_type'] == 'O.2']\n",
    "print('number of keto groups: %d' % keto.shape[0])\n",
    "keto"
   ]
  },
  {
   "cell_type": "markdown",
   "metadata": {},
   "source": [
    "A list of all the allowed atom types that can be found in Tripos MOL2 files is provided below:"
   ]
  },
  {
   "cell_type": "markdown",
   "metadata": {},
   "source": [
    "    Code       Definition\n",
    "    C.3        carbon sp3\n",
    "    C.2        carbon sp2\n",
    "    C.1        carbon sp\n",
    "    C.ar       carbon aromatic\n",
    "    C.cat      cabocation (C+) used only in a guadinium group\n",
    "    N.3        nitrogen sp3\n",
    "    N.2        nitrogen sp2\n",
    "    N.1        nitrogen sp\n",
    "    N.ar       nitrogen aromatic\n",
    "    N.am       nitrogen amide\n",
    "    N.pl3      nitrogen trigonal planar\n",
    "    N.4        nitrogen sp3 positively charged\n",
    "    O.3        oxygen sp3\n",
    "    O.2        oxygen sp2\n",
    "    O.co2      oxygen in carboxylate and phosphate groups\n",
    "    O.spc      oxygen in Single Point Charge (SPC) water model\n",
    "    O.t3p      oxygen in Transferable Intermolecular Potential (TIP3P) water model\n",
    "    S.3        sulfur sp3\n",
    "    S.2        sulfur sp2\n",
    "    S.O        sulfoxide sulfur\n",
    "    S.O2/S.o2  sulfone sulfur\n",
    "    P.3        phosphorous sp3\n",
    "    F          fluorine\n",
    "    H          hydrogen\n",
    "    H.spc      hydrogen in Single Point Charge (SPC) water model\n",
    "    H.t3p      hydrogen in Transferable Intermolecular Potential (TIP3P) water model\n",
    "    LP         lone pair\n",
    "    Du         dummy atom\n",
    "    Du.C       dummy carbon\n",
    "    Any        any atom\n",
    "    Hal        halogen\n",
    "    Het        heteroatom = N, O, S, P\n",
    "    Hev        heavy atom (non hydrogen)\n",
    "    Li         lithium\n",
    "    Na         sodium\n",
    "    Mg         magnesium\n",
    "    Al         aluminum\n",
    "    Si         silicon\n",
    "    K          potassium\n",
    "    Ca         calcium\n",
    "    Cr.thm     chromium (tetrahedral)\n",
    "    Cr.oh      chromium (octahedral)\n",
    "    Mn         manganese\n",
    "    Fe         iron\n",
    "    Co.oh      cobalt (octahedral)\n",
    "    Cu         copper\n"
   ]
  },
  {
   "cell_type": "markdown",
   "metadata": {},
   "source": [
    "## Plotting"
   ]
  },
  {
   "cell_type": "markdown",
   "metadata": {},
   "source": [
    "Since we are using pandas under the hood, which in turns uses matplotlib under the hood, we can produce quick summary plots of our MOL2 structures conveniently. Below are a few examples of how to visualize molecular properties."
   ]
  },
  {
   "cell_type": "code",
   "execution_count": 10,
   "metadata": {},
   "outputs": [],
   "source": [
    "from biopandas.mol2 import PandasMol2\n",
    "\n",
    "pmol = PandasMol2().read_mol2('./data/1b5e_1.mol2')"
   ]
  },
  {
   "cell_type": "markdown",
   "metadata": {},
   "source": [
    "[File link: [1b5e_1.mol2](https://raw.githubusercontent.com/rasbt/biopandas/master/docs/sources/tutorials/data/1b5e_1.mol2)]"
   ]
  },
  {
   "cell_type": "code",
   "execution_count": 11,
   "metadata": {},
   "outputs": [],
   "source": [
    "%matplotlib inline\n",
    "import matplotlib.pyplot as plt\n",
    "from matplotlib import style\n",
    "style.use('ggplot')"
   ]
  },
  {
   "cell_type": "markdown",
   "metadata": {},
   "source": [
    "For instance, let's say we are interested in the counts of the different atom types that can be found in the MOL2 file; we could do the following:"
   ]
  },
  {
   "cell_type": "code",
   "execution_count": 12,
   "metadata": {},
   "outputs": [
    {
     "data": {
      "image/png": "[encoded data removed]",
      "text/plain": [
       "<Figure size 432x288 with 1 Axes>"
      ]
     },
     "metadata": {},
     "output_type": "display_data"
    }
   ],
   "source": [
    "pmol.df['atom_type'].value_counts().plot(kind='bar')\n",
    "plt.xlabel('atom type')\n",
    "plt.ylabel('count')\n",
    "plt.show()"
   ]
  },
  {
   "cell_type": "markdown",
   "metadata": {},
   "source": [
    "If this is too fine-grained for our needs, we could summarize the different atom types by atomic elements:"
   ]
  },
  {
   "cell_type": "code",
   "execution_count": 13,
   "metadata": {},
   "outputs": [
    {
     "data": {
      "image/png": "[encoded data removed]",
      "text/plain": [
       "<Figure size 432x288 with 1 Axes>"
      ]
     },
     "metadata": {},
     "output_type": "display_data"
    }
   ],
   "source": [
    "pmol.df['element_type'] = pmol.df['atom_type'].apply(lambda x: x.split('.')[0])\n",
    "\n",
    "pmol.df['element_type'].value_counts().plot(kind='bar')\n",
    "plt.xlabel('element type')\n",
    "plt.ylabel('count')\n",
    "plt.show()"
   ]
  },
  {
   "cell_type": "markdown",
   "metadata": {},
   "source": [
    "One of the coolest features in pandas is the groupby method. Below is an example plotting the average charge of the different atom types with the standard deviation as error bars:"
   ]
  },
  {
   "cell_type": "code",
   "execution_count": 14,
   "metadata": {},
   "outputs": [
    {
     "data": {
      "image/png": "[encoded data removed]",
      "text/plain": [
       "<Figure size 432x288 with 1 Axes>"
      ]
     },
     "metadata": {},
     "output_type": "display_data"
    }
   ],
   "source": [
    "groupby_charge = pmol.df.groupby(['atom_type'])['charge']\n",
    "groupby_charge.mean().plot(kind='bar', yerr=groupby_charge.std())\n",
    "plt.ylabel('charge')\n",
    "plt.show()"
   ]
  },
  {
   "cell_type": "markdown",
   "metadata": {},
   "source": [
    "## Computing the Root Mean Square Deviation"
   ]
  },
  {
   "cell_type": "markdown",
   "metadata": {},
   "source": [
    "The Root-mean-square deviation (RMSD) is simply a measure of the average distance between atoms of 2 structures. This calculation of the Cartesian error follows the equation:\n",
    "\n",
    "$$RMSD(a, b) = \\sqrt{\\frac{1}{n} \\sum^{n}_{i=1} \\big((a_{ix})^2 + (a_{iy})^2 + (a_{iz})^2 \\big)} \\\\\n",
    "= \\sqrt{\\frac{1}{n} \\sum^{n}_{i=1} || a_i + b_i||_2^2}$$"
   ]
  },
  {
   "cell_type": "markdown",
   "metadata": {},
   "source": [
    "So, assuming that the we have the following 2 conformations of a ligand molecule\n",
    "\n",
    "![](./img/1b5e_poses.png)\n",
    "\n",
    "we can compute the RMSD as follows:"
   ]
  },
  {
   "cell_type": "code",
   "execution_count": 15,
   "metadata": {},
   "outputs": [
    {
     "name": "stdout",
     "output_type": "stream",
     "text": [
      "Heavy-atom RMSD: 1.1609 Angstrom\n",
      "All-atom RMSD: 1.5523 Angstrom\n"
     ]
    }
   ],
   "source": [
    "from biopandas.mol2 import PandasMol2\n",
    "\n",
    "l_1 = PandasMol2().read_mol2('./data/1b5e_1.mol2')\n",
    "l_2 = PandasMol2().read_mol2('./data/1b5e_2.mol2')\n",
    "\n",
    "r_heavy = PandasMol2.rmsd(l_1.df, l_2.df)\n",
    "r_all  = PandasMol2.rmsd(l_1.df, l_2.df, heavy_only=False)\n",
    "\n",
    "print('Heavy-atom RMSD: %.4f Angstrom' % r_heavy)\n",
    "print('All-atom RMSD: %.4f Angstrom' % r_all)"
   ]
  },
  {
   "cell_type": "markdown",
   "metadata": {},
   "source": [
    "[File links: [1b5e_1.mol2](https://raw.githubusercontent.com/rasbt/biopandas/master/docs/sources/tutorials/data/1b5e_1.mol2), [1b5e_2.mol2](https://raw.githubusercontent.com/rasbt/biopandas/master/docs/sources/tutorials/data/1b5e_2.mol2)]"
   ]
  },
  {
   "cell_type": "markdown",
   "metadata": {},
   "source": [
    "<br>"
   ]
  },
  {
   "cell_type": "markdown",
   "metadata": {},
   "source": [
    "## Filtering Atoms by Distance"
   ]
  },
  {
   "cell_type": "markdown",
   "metadata": {},
   "source": [
    "We can use the `distance` method to compute the distance between each atom (or a subset of atoms) in our data frame and a three-dimensional reference point. For example, let's assume were are interested in computing the distance between a keto group in the DMC molecule, which we've seen earlier, and other atoms in the same molecule.\n",
    "\n",
    "First, let's get the coordinates of all keto-groups in this molecule:"
   ]
  },
  {
   "cell_type": "code",
   "execution_count": 16,
   "metadata": {},
   "outputs": [
    {
     "data": {
      "text/html": [
       "<div>\n",
       "<style scoped>\n",
       "    .dataframe tbody tr th:only-of-type {\n",
       "        vertical-align: middle;\n",
       "    }\n",
       "\n",
       "    .dataframe tbody tr th {\n",
       "        vertical-align: top;\n",
       "    }\n",
       "\n",
       "    .dataframe thead th {\n",
       "        text-align: right;\n",
       "    }\n",
       "</style>\n",
       "<table border=\"1\" class=\"dataframe\">\n",
       "  <thead>\n",
       "    <tr style=\"text-align: right;\">\n",
       "      <th></th>\n",
       "      <th>x</th>\n",
       "      <th>y</th>\n",
       "      <th>z</th>\n",
       "    </tr>\n",
       "  </thead>\n",
       "  <tbody>\n",
       "    <tr>\n",
       "      <th>14</th>\n",
       "      <td>15.0888</td>\n",
       "      <td>6.5824</td>\n",
       "      <td>25.0727</td>\n",
       "    </tr>\n",
       "    <tr>\n",
       "      <th>15</th>\n",
       "      <td>18.9314</td>\n",
       "      <td>-0.7527</td>\n",
       "      <td>24.1606</td>\n",
       "    </tr>\n",
       "  </tbody>\n",
       "</table>\n",
       "</div>"
      ],
      "text/plain": [
       "          x       y        z\n",
       "14  15.0888  6.5824  25.0727\n",
       "15  18.9314 -0.7527  24.1606"
      ]
     },
     "execution_count": 16,
     "metadata": {},
     "output_type": "execute_result"
    }
   ],
   "source": [
    "from biopandas.mol2 import PandasMol2\n",
    "\n",
    "pmol = PandasMol2().read_mol2('./data/1b5e_1.mol2')\n",
    "\n",
    "keto_coord = pmol.df[pmol.df['atom_type'] == 'O.2'][['x', 'y', 'z']]\n",
    "keto_coord"
   ]
  },
  {
   "cell_type": "markdown",
   "metadata": {},
   "source": [
    "In the following example, we use `PandasMol2`'s `distance` method. The `distance` method returns a pandas `Series` object containing the Euclidean distance between an atom and all other atoms in the structure. In the following example, `keto_coord.values[0]` refers to the x, y, z coordinates of the first row (i.e., first keto group) in the array above:"
   ]
  },
  {
   "cell_type": "code",
   "execution_count": 17,
   "metadata": {},
   "outputs": [
    {
     "name": "stdout",
     "output_type": "stream",
     "text": [
      "x, y, z coords: [15.0888  6.5824 25.0727]\n"
     ]
    }
   ],
   "source": [
    "print('x, y, z coords:', keto_coord.values[0])\n",
    "distances = pmol.distance(keto_coord.values[0])"
   ]
  },
  {
   "cell_type": "markdown",
   "metadata": {},
   "source": [
    "For our convenience, we can add these `distances` to our MOL2 DataFrame:"
   ]
  },
  {
   "cell_type": "code",
   "execution_count": 18,
   "metadata": {},
   "outputs": [
    {
     "data": {
      "text/html": [
       "<div>\n",
       "<style scoped>\n",
       "    .dataframe tbody tr th:only-of-type {\n",
       "        vertical-align: middle;\n",
       "    }\n",
       "\n",
       "    .dataframe tbody tr th {\n",
       "        vertical-align: top;\n",
       "    }\n",
       "\n",
       "    .dataframe thead th {\n",
       "        text-align: right;\n",
       "    }\n",
       "</style>\n",
       "<table border=\"1\" class=\"dataframe\">\n",
       "  <thead>\n",
       "    <tr style=\"text-align: right;\">\n",
       "      <th></th>\n",
       "      <th>atom_id</th>\n",
       "      <th>atom_name</th>\n",
       "      <th>x</th>\n",
       "      <th>y</th>\n",
       "      <th>...</th>\n",
       "      <th>subst_id</th>\n",
       "      <th>subst_name</th>\n",
       "      <th>charge</th>\n",
       "      <th>distances</th>\n",
       "    </tr>\n",
       "  </thead>\n",
       "  <tbody>\n",
       "    <tr>\n",
       "      <th>0</th>\n",
       "      <td>1</td>\n",
       "      <td>C1</td>\n",
       "      <td>18.8934</td>\n",
       "      <td>5.5819</td>\n",
       "      <td>...</td>\n",
       "      <td>1</td>\n",
       "      <td>&lt;0&gt;</td>\n",
       "      <td>-0.1356</td>\n",
       "      <td>4.035144</td>\n",
       "    </tr>\n",
       "    <tr>\n",
       "      <th>1</th>\n",
       "      <td>2</td>\n",
       "      <td>C2</td>\n",
       "      <td>18.1301</td>\n",
       "      <td>4.7642</td>\n",
       "      <td>...</td>\n",
       "      <td>1</td>\n",
       "      <td>&lt;0&gt;</td>\n",
       "      <td>-0.0410</td>\n",
       "      <td>3.547712</td>\n",
       "    </tr>\n",
       "    <tr>\n",
       "      <th>2</th>\n",
       "      <td>3</td>\n",
       "      <td>C3</td>\n",
       "      <td>18.2645</td>\n",
       "      <td>6.8544</td>\n",
       "      <td>...</td>\n",
       "      <td>1</td>\n",
       "      <td>&lt;0&gt;</td>\n",
       "      <td>0.4856</td>\n",
       "      <td>3.456969</td>\n",
       "    </tr>\n",
       "    <tr>\n",
       "      <th>3</th>\n",
       "      <td>4</td>\n",
       "      <td>C4</td>\n",
       "      <td>16.2520</td>\n",
       "      <td>6.2866</td>\n",
       "      <td>...</td>\n",
       "      <td>1</td>\n",
       "      <td>&lt;0&gt;</td>\n",
       "      <td>0.8410</td>\n",
       "      <td>1.232313</td>\n",
       "    </tr>\n",
       "    <tr>\n",
       "      <th>4</th>\n",
       "      <td>5</td>\n",
       "      <td>C5</td>\n",
       "      <td>15.3820</td>\n",
       "      <td>3.0682</td>\n",
       "      <td>...</td>\n",
       "      <td>1</td>\n",
       "      <td>&lt;0&gt;</td>\n",
       "      <td>0.0000</td>\n",
       "      <td>3.527546</td>\n",
       "    </tr>\n",
       "  </tbody>\n",
       "</table>\n",
       "<p>5 rows × 10 columns</p>\n",
       "</div>"
      ],
      "text/plain": [
       "   atom_id atom_name        x       y  ...  subst_id subst_name  charge distances\n",
       "0        1        C1  18.8934  5.5819  ...         1        <0> -0.1356  4.035144\n",
       "1        2        C2  18.1301  4.7642  ...         1        <0> -0.0410  3.547712\n",
       "2        3        C3  18.2645  6.8544  ...         1        <0>  0.4856  3.456969\n",
       "3        4        C4  16.2520  6.2866  ...         1        <0>  0.8410  1.232313\n",
       "4        5        C5  15.3820  3.0682  ...         1        <0>  0.0000  3.527546\n",
       "\n",
       "[5 rows x 10 columns]"
      ]
     },
     "execution_count": 18,
     "metadata": {},
     "output_type": "execute_result"
    }
   ],
   "source": [
    "pmol.df['distances'] = distances\n",
    "pmol.df.head()"
   ]
  },
  {
   "cell_type": "markdown",
   "metadata": {},
   "source": [
    "Now, say we are interested in the Euclidean distance between the two keto groups in the molecule:"
   ]
  },
  {
   "cell_type": "code",
   "execution_count": 19,
   "metadata": {},
   "outputs": [
    {
     "data": {
      "text/html": [
       "<div>\n",
       "<style scoped>\n",
       "    .dataframe tbody tr th:only-of-type {\n",
       "        vertical-align: middle;\n",
       "    }\n",
       "\n",
       "    .dataframe tbody tr th {\n",
       "        vertical-align: top;\n",
       "    }\n",
       "\n",
       "    .dataframe thead th {\n",
       "        text-align: right;\n",
       "    }\n",
       "</style>\n",
       "<table border=\"1\" class=\"dataframe\">\n",
       "  <thead>\n",
       "    <tr style=\"text-align: right;\">\n",
       "      <th></th>\n",
       "      <th>atom_id</th>\n",
       "      <th>atom_name</th>\n",
       "      <th>x</th>\n",
       "      <th>y</th>\n",
       "      <th>...</th>\n",
       "      <th>subst_id</th>\n",
       "      <th>subst_name</th>\n",
       "      <th>charge</th>\n",
       "      <th>distances</th>\n",
       "    </tr>\n",
       "  </thead>\n",
       "  <tbody>\n",
       "    <tr>\n",
       "      <th>14</th>\n",
       "      <td>15</td>\n",
       "      <td>O3</td>\n",
       "      <td>15.0888</td>\n",
       "      <td>6.5824</td>\n",
       "      <td>...</td>\n",
       "      <td>1</td>\n",
       "      <td>&lt;0&gt;</td>\n",
       "      <td>-0.5700</td>\n",
       "      <td>0.000000</td>\n",
       "    </tr>\n",
       "    <tr>\n",
       "      <th>15</th>\n",
       "      <td>16</td>\n",
       "      <td>O4</td>\n",
       "      <td>18.9314</td>\n",
       "      <td>-0.7527</td>\n",
       "      <td>...</td>\n",
       "      <td>1</td>\n",
       "      <td>&lt;0&gt;</td>\n",
       "      <td>-1.0333</td>\n",
       "      <td>8.330738</td>\n",
       "    </tr>\n",
       "  </tbody>\n",
       "</table>\n",
       "<p>2 rows × 10 columns</p>\n",
       "</div>"
      ],
      "text/plain": [
       "    atom_id atom_name        x       y  ...  subst_id subst_name  charge distances\n",
       "14       15        O3  15.0888  6.5824  ...         1        <0> -0.5700  0.000000\n",
       "15       16        O4  18.9314 -0.7527  ...         1        <0> -1.0333  8.330738\n",
       "\n",
       "[2 rows x 10 columns]"
      ]
     },
     "execution_count": 19,
     "metadata": {},
     "output_type": "execute_result"
    }
   ],
   "source": [
    "pmol.df[pmol.df['atom_type'] == 'O.2']"
   ]
  },
  {
   "cell_type": "markdown",
   "metadata": {},
   "source": [
    "In the example above, the distance between the two keto groups is 8 angstrom."
   ]
  },
  {
   "cell_type": "markdown",
   "metadata": {},
   "source": [
    "![](./img/1b5e_ketodist.png)"
   ]
  },
  {
   "cell_type": "markdown",
   "metadata": {},
   "source": [
    "Another common task that we can perform using these atomic distances is to select only the neighboring atoms of the keto group (here: atoms within 3 angstrom). The code is as follows:"
   ]
  },
  {
   "cell_type": "code",
   "execution_count": 20,
   "metadata": {},
   "outputs": [
    {
     "data": {
      "text/html": [
       "<div>\n",
       "<style scoped>\n",
       "    .dataframe tbody tr th:only-of-type {\n",
       "        vertical-align: middle;\n",
       "    }\n",
       "\n",
       "    .dataframe tbody tr th {\n",
       "        vertical-align: top;\n",
       "    }\n",
       "\n",
       "    .dataframe thead th {\n",
       "        text-align: right;\n",
       "    }\n",
       "</style>\n",
       "<table border=\"1\" class=\"dataframe\">\n",
       "  <thead>\n",
       "    <tr style=\"text-align: right;\">\n",
       "      <th></th>\n",
       "      <th>atom_id</th>\n",
       "      <th>atom_name</th>\n",
       "      <th>x</th>\n",
       "      <th>y</th>\n",
       "      <th>...</th>\n",
       "      <th>subst_id</th>\n",
       "      <th>subst_name</th>\n",
       "      <th>charge</th>\n",
       "      <th>distances</th>\n",
       "    </tr>\n",
       "  </thead>\n",
       "  <tbody>\n",
       "    <tr>\n",
       "      <th>7</th>\n",
       "      <td>8</td>\n",
       "      <td>C8</td>\n",
       "      <td>16.0764</td>\n",
       "      <td>4.1199</td>\n",
       "      <td>...</td>\n",
       "      <td>1</td>\n",
       "      <td>&lt;0&gt;</td>\n",
       "      <td>0.5801</td>\n",
       "      <td>2.814490</td>\n",
       "    </tr>\n",
       "    <tr>\n",
       "      <th>9</th>\n",
       "      <td>10</td>\n",
       "      <td>N1</td>\n",
       "      <td>17.0289</td>\n",
       "      <td>7.1510</td>\n",
       "      <td>...</td>\n",
       "      <td>1</td>\n",
       "      <td>&lt;0&gt;</td>\n",
       "      <td>-0.6610</td>\n",
       "      <td>2.269690</td>\n",
       "    </tr>\n",
       "    <tr>\n",
       "      <th>10</th>\n",
       "      <td>11</td>\n",
       "      <td>N2</td>\n",
       "      <td>16.8196</td>\n",
       "      <td>5.0644</td>\n",
       "      <td>...</td>\n",
       "      <td>1</td>\n",
       "      <td>&lt;0&gt;</td>\n",
       "      <td>-0.4691</td>\n",
       "      <td>2.307553</td>\n",
       "    </tr>\n",
       "    <tr>\n",
       "      <th>14</th>\n",
       "      <td>15</td>\n",
       "      <td>O3</td>\n",
       "      <td>15.0888</td>\n",
       "      <td>6.5824</td>\n",
       "      <td>...</td>\n",
       "      <td>1</td>\n",
       "      <td>&lt;0&gt;</td>\n",
       "      <td>-0.5700</td>\n",
       "      <td>0.000000</td>\n",
       "    </tr>\n",
       "    <tr>\n",
       "      <th>26</th>\n",
       "      <td>27</td>\n",
       "      <td>H7</td>\n",
       "      <td>15.3483</td>\n",
       "      <td>4.6961</td>\n",
       "      <td>...</td>\n",
       "      <td>1</td>\n",
       "      <td>&lt;0&gt;</td>\n",
       "      <td>0.0000</td>\n",
       "      <td>2.446817</td>\n",
       "    </tr>\n",
       "  </tbody>\n",
       "</table>\n",
       "<p>5 rows × 10 columns</p>\n",
       "</div>"
      ],
      "text/plain": [
       "    atom_id atom_name        x       y  ...  subst_id subst_name  charge distances\n",
       "7         8        C8  16.0764  4.1199  ...         1        <0>  0.5801  2.814490\n",
       "9        10        N1  17.0289  7.1510  ...         1        <0> -0.6610  2.269690\n",
       "10       11        N2  16.8196  5.0644  ...         1        <0> -0.4691  2.307553\n",
       "14       15        O3  15.0888  6.5824  ...         1        <0> -0.5700  0.000000\n",
       "26       27        H7  15.3483  4.6961  ...         1        <0>  0.0000  2.446817\n",
       "\n",
       "[5 rows x 10 columns]"
      ]
     },
     "execution_count": 20,
     "metadata": {},
     "output_type": "execute_result"
    }
   ],
   "source": [
    "all_within_3A = pmol.df[pmol.df['distances'] <= 3.0]\n",
    "all_within_3A.tail()"
   ]
  },
  {
   "cell_type": "markdown",
   "metadata": {},
   "source": [
    "## Parsing Multi-MOL2 files"
   ]
  },
  {
   "cell_type": "markdown",
   "metadata": {},
   "source": [
    "### Basic Multi-MOL2 File Parsing"
   ]
  },
  {
   "cell_type": "markdown",
   "metadata": {},
   "source": [
    "As mentioned earlier, `PandasMol2.read_mol2` method only reads in the first molecule if it is given a multi-MOL2 file. However, if we want to create DataFrames from multiple structures in a MOL2 file, we can use the handy `split_multimol2` generator.\n",
    "\n",
    "The `split_multimol2` generator yields tuples containing the molecule IDs and the MOL2 content as strings in a list -- each line in the MOL2 file is stored as a string in the list."
   ]
  },
  {
   "cell_type": "code",
   "execution_count": 21,
   "metadata": {},
   "outputs": [
    {
     "name": "stdout",
     "output_type": "stream",
     "text": [
      "Molecule ID:\n",
      " ZINC38611810\n",
      "First 10 lines:\n",
      " ['@<TRIPOS>MOLECULE\\n', 'ZINC38611810\\n', '   65    68     0     0     0\\n', 'SMALL\\n', 'NO_CHARGES\\n', '\\n', '@<TRIPOS>ATOM\\n', '      1 C1         -1.1786    2.7011   -4.0323 C.3       1 <0>        -0.1537\\n', '      2 C2         -1.2950    1.2442   -3.5798 C.3       1 <0>        -0.1156\\n', '      3 C3         -0.1742    0.4209   -4.2178 C.3       1 <0>        -0.1141\\n']\n"
     ]
    }
   ],
   "source": [
    "from biopandas.mol2 import split_multimol2\n",
    "\n",
    "mol2_id, mol2_cont = next(split_multimol2('./data/40_mol2_files.mol2'))\n",
    "\n",
    "print('Molecule ID:\\n', mol2_id)\n",
    "print('First 10 lines:\\n', mol2_cont[:10])"
   ]
  },
  {
   "cell_type": "markdown",
   "metadata": {},
   "source": [
    "[File link: [40_mol2_files.mol2](https://raw.githubusercontent.com/rasbt/biopandas/master/docs/sources/tutorials/data/40_mol2_files.mol2)]"
   ]
  },
  {
   "cell_type": "markdown",
   "metadata": {},
   "source": [
    "We can now use this generator to loop over all files in a multi-MOL2 file and create PandasMol2 DataFrames. A typical use case would be the filtering of mol2 files by certain properties:"
   ]
  },
  {
   "cell_type": "code",
   "execution_count": 22,
   "metadata": {},
   "outputs": [],
   "source": [
    "pdmol = PandasMol2()\n",
    "\n",
    "with open('./data/filtered.mol2', 'w') as f:\n",
    "    for mol2 in split_multimol2('./data/40_mol2_files.mol2'):\n",
    "        pdmol.read_mol2_from_list(mol2_lines=mol2[1], mol2_code=mol2[0])\n",
    "        \n",
    "        # do some analysis\n",
    "        keep_molecule = False\n",
    "        \n",
    "        # save molecule if it passes our filter criterion\n",
    "        if keep_molecule: \n",
    "            # note that the mol2_text contains the original mol2 content\n",
    "            f.write(pdmol.mol2_text) "
   ]
  },
  {
   "cell_type": "markdown",
   "metadata": {},
   "source": [
    "### Using Multiprocessing for Multi-MOL2 File Analysis"
   ]
  },
  {
   "cell_type": "markdown",
   "metadata": {},
   "source": [
    "To improve the computational efficiency and throughput for multi-mol2 analyses, it is recommended to use the [`mputil`](https://github.com/rasbt/mputil) package, which evaluates Python generators lazily. The `lazy_imap` function from `mputil` is based on Python's standardlib multiprocessing `imap` function, but it doesn't consume the generator upfront. This lazy evaluation is important, for example, if we are parsing large (possibly Gigabyte- or Terabyte-large) multi-mol2 files for multiprocessing.\n",
    "\n",
    "The following example provides a template for atom-type based molecule queries, but the `data_processor` function can be extended to do any kind of functional group queries (for example, involving the `'charge'` column and/or `PandasMol2.distance` method). "
   ]
  },
  {
   "cell_type": "code",
   "execution_count": 24,
   "metadata": {},
   "outputs": [],
   "source": [
    "import pandas as pd\n",
    "from mputil import lazy_imap\n",
    "from biopandas.mol2 import PandasMol2\n",
    "from biopandas.mol2 import split_multimol2"
   ]
  },
  {
   "cell_type": "code",
   "execution_count": null,
   "metadata": {},
   "outputs": [],
   "source": [
    "# Selection strings to capture\n",
    "# all molecules that contain at least one sp2 hybridized\n",
    "# oxygen atom and at least one Fluorine atom\n",
    "SELECTIONS = [\"(pdmol.df.atom_type == 'O.2')\",\n",
    "              \"(pdmol.df.atom_type == 'F')\"]\n",
    " \n",
    "# Path to the multi-mol2 input file\n",
    "MOL2_FILE = \"./data/40_mol2_files.mol2\"\n",
    "\n",
    "# Data processing function to be run in parallel\n",
    "def data_processor(mol2):\n",
    "    \"\"\"Return molecule ID if there's a match and '' otherwise\"\"\"\n",
    "    pdmol = PandasMol2().read_mol2_from_list(mol2_lines=mol2[1],\n",
    "                                             mol2_code=mol2[0])\n",
    "    match = mol2[0]\n",
    "    for sub_sele in SELECTIONS:\n",
    "        if not pd.eval(sub_sele).any():\n",
    "            match = ''\n",
    "            break\n",
    "    return match\n",
    "\n",
    "# Process molecules and save IDs of hits to disk\n",
    "with open('./data/selected_ids.txt', 'w') as f:       \n",
    "    searched, found = 0, 0\n",
    "    for chunk in lazy_imap(data_processor=data_processor,\n",
    "                           data_generator=split_multimol2(MOL2_FILE),\n",
    "                           n_cpus=0): # means all available cpus\n",
    "\n",
    "        for mol2_id in chunk:\n",
    "            if mol2_id:\n",
    "                # write IDs of matching molecules to disk\n",
    "                f.write('%s\\n' % mol2_id)\n",
    "                found += 1\n",
    "        searched += len(chunk)\n",
    "            \n",
    "        \n",
    "print('Searched %d molecules. Got %d hits.' % (searched, found))"
   ]
  },
  {
   "cell_type": "markdown",
   "metadata": {},
   "source": [
    "[Input File link: [40_mol2_files.mol2](https://raw.githubusercontent.com/rasbt/biopandas/master/docs/sources/tutorials/data/40_mol2_files.mol2)]\n",
    "\n",
    "[Output File link: [selected_ids.txt](https://raw.githubusercontent.com/rasbt/biopandas/master/docs/sources/tutorials/data/selected_ids.txt)]"
   ]
  }
 ],
 "metadata": {
  "anaconda-cloud": {},
  "kernelspec": {
   "display_name": "Python 3",
   "language": "python",
   "name": "python3"
  },
  "language_info": {
   "codemirror_mode": {
    "name": "ipython",
    "version": 3
   },
   "file_extension": ".py",
   "mimetype": "text/x-python",
   "name": "python",
   "nbconvert_exporter": "python",
   "pygments_lexer": "ipython3",
   "version": "3.9.2"
  },
  "toc": {
   "base_numbering": 1,
   "nav_menu": {},
   "number_sections": true,
   "sideBar": true,
   "skip_h1_title": false,
   "title_cell": "Table of Contents",
   "title_sidebar": "Contents",
   "toc_cell": false,
   "toc_position": {},
   "toc_section_display": true,
   "toc_window_display": false
  }
 },
 "nbformat": 4,
 "nbformat_minor": 4
}
