{
  "nbformat": 4,
  "nbformat_minor": 0,
  "metadata": {
    "colab": {
      "name": "covid_structure_analysis.ipynb",
      "provenance": []
    },
    "kernelspec": {
      "name": "python3",
      "display_name": "Python 3"
    }
  },
  "cells": [
    {
      "cell_type": "markdown",
      "metadata": {
        "id": "ddbshhgR53J4",
        "colab_type": "text"
      },
      "source": [
        "# Install biopandas"
      ]
    },
    {
      "cell_type": "code",
      "metadata": {
        "id": "RZm5QNkWx0i-",
        "colab_type": "code",
        "colab": {
          "base_uri": "https://localhost:8080/",
          "height": 136
        },
        "outputId": "a1394026-64fc-47bb-df88-2c6f1c687820"
      },
      "source": [
        "%pip install biopandas"
      ],
      "execution_count": 46,
      "outputs": [
        {
          "output_type": "stream",
          "text": [
            "Requirement already satisfied: biopandas in /usr/local/lib/python3.6/dist-packages (0.2.5)\n",
            "Requirement already satisfied: setuptools in /usr/local/lib/python3.6/dist-packages (from biopandas) (47.1.1)\n",
            "Requirement already satisfied: pandas>=0.24.2 in /usr/local/lib/python3.6/dist-packages (from biopandas) (1.0.4)\n",
            "Requirement already satisfied: numpy>=1.16.2 in /usr/local/lib/python3.6/dist-packages (from biopandas) (1.18.5)\n",
            "Requirement already satisfied: python-dateutil>=2.6.1 in /usr/local/lib/python3.6/dist-packages (from pandas>=0.24.2->biopandas) (2.8.1)\n",
            "Requirement already satisfied: pytz>=2017.2 in /usr/local/lib/python3.6/dist-packages (from pandas>=0.24.2->biopandas) (2018.9)\n",
            "Requirement already satisfied: six>=1.5 in /usr/local/lib/python3.6/dist-packages (from python-dateutil>=2.6.1->pandas>=0.24.2->biopandas) (1.12.0)\n"
          ],
          "name": "stdout"
        }
      ]
    },
    {
      "cell_type": "markdown",
      "metadata": {
        "id": "XBDaDOHg57aD",
        "colab_type": "text"
      },
      "source": [
        "# Analysis of Structural basis for human coronavirus attachment to sialic acid receptors\n",
        "\n",
        "source: [corona virus db](https://www.rcsb.org/structure/6NZK)"
      ]
    },
    {
      "cell_type": "code",
      "metadata": {
        "id": "cZDg3ixp0c6l",
        "colab_type": "code",
        "colab": {}
      },
      "source": [
        "from biopandas.pdb import PandasPdb\n",
        "\n",
        "ppdb_df =  PandasPdb().read_pdb('6nzk.pdb')\n"
      ],
      "execution_count": 0,
      "outputs": []
    },
    {
      "cell_type": "code",
      "metadata": {
        "id": "pOqhIUce1Jhl",
        "colab_type": "code",
        "colab": {
          "base_uri": "https://localhost:8080/",
          "height": 34
        },
        "outputId": "72a425a2-bba8-4f68-9304-8db275f0a62d"
      },
      "source": [
        "type(ppdb_df.df)"
      ],
      "execution_count": 48,
      "outputs": [
        {
          "output_type": "execute_result",
          "data": {
            "text/plain": [
              "dict"
            ]
          },
          "metadata": {
            "tags": []
          },
          "execution_count": 48
        }
      ]
    },
    {
      "cell_type": "code",
      "metadata": {
        "id": "txOEM_T91Kww",
        "colab_type": "code",
        "colab": {
          "base_uri": "https://localhost:8080/",
          "height": 34
        },
        "outputId": "0e6ad5d3-e2c0-4087-ba72-ee7b2a72ddcb"
      },
      "source": [
        "ppdb_df.df.keys()"
      ],
      "execution_count": 49,
      "outputs": [
        {
          "output_type": "execute_result",
          "data": {
            "text/plain": [
              "dict_keys(['ATOM', 'HETATM', 'ANISOU', 'OTHERS'])"
            ]
          },
          "metadata": {
            "tags": []
          },
          "execution_count": 49
        }
      ]
    },
    {
      "cell_type": "markdown",
      "metadata": {
        "id": "lz98Ls_IAO7c",
        "colab_type": "text"
      },
      "source": [
        "**PDB file format**\n",
        "\n",
        "In the PDB data file format for macromolecular models, each atom is designated either ATOM or HETATM (which stands for hetero atom).\n",
        "\n",
        "ATOM is reserved for atoms in standard residues of protein, DNA or RNA.\n",
        "\n",
        "HETATM is applied to non-standard residues of protein, DNA or RNA, as well as atoms in other kinds of groups, such as carbohydrates, substrates, ligands, solvent, and metal ions."
      ]
    },
    {
      "cell_type": "code",
      "metadata": {
        "id": "hcv5xHxi3Xxy",
        "colab_type": "code",
        "colab": {
          "base_uri": "https://localhost:8080/",
          "height": 224
        },
        "outputId": "9d9693d3-f68e-446e-a8d2-4632b76e5c25"
      },
      "source": [
        "atom_df = ppdb_df.df['ATOM']\n",
        "atom_df.head()"
      ],
      "execution_count": 50,
      "outputs": [
        {
          "output_type": "execute_result",
          "data": {
            "text/html": [
              "<div>\n",
              "<style scoped>\n",
              "    .dataframe tbody tr th:only-of-type {\n",
              "        vertical-align: middle;\n",
              "    }\n",
              "\n",
              "    .dataframe tbody tr th {\n",
              "        vertical-align: top;\n",
              "    }\n",
              "\n",
              "    .dataframe thead th {\n",
              "        text-align: right;\n",
              "    }\n",
              "</style>\n",
              "<table border=\"1\" class=\"dataframe\">\n",
              "  <thead>\n",
              "    <tr style=\"text-align: right;\">\n",
              "      <th></th>\n",
              "      <th>record_name</th>\n",
              "      <th>atom_number</th>\n",
              "      <th>blank_1</th>\n",
              "      <th>atom_name</th>\n",
              "      <th>alt_loc</th>\n",
              "      <th>residue_name</th>\n",
              "      <th>blank_2</th>\n",
              "      <th>chain_id</th>\n",
              "      <th>residue_number</th>\n",
              "      <th>insertion</th>\n",
              "      <th>blank_3</th>\n",
              "      <th>x_coord</th>\n",
              "      <th>y_coord</th>\n",
              "      <th>z_coord</th>\n",
              "      <th>occupancy</th>\n",
              "      <th>b_factor</th>\n",
              "      <th>blank_4</th>\n",
              "      <th>segment_id</th>\n",
              "      <th>element_symbol</th>\n",
              "      <th>charge</th>\n",
              "      <th>line_idx</th>\n",
              "    </tr>\n",
              "  </thead>\n",
              "  <tbody>\n",
              "    <tr>\n",
              "      <th>0</th>\n",
              "      <td>ATOM</td>\n",
              "      <td>1</td>\n",
              "      <td></td>\n",
              "      <td>N</td>\n",
              "      <td></td>\n",
              "      <td>VAL</td>\n",
              "      <td></td>\n",
              "      <td>A</td>\n",
              "      <td>15</td>\n",
              "      <td></td>\n",
              "      <td></td>\n",
              "      <td>243.899</td>\n",
              "      <td>168.046</td>\n",
              "      <td>234.970</td>\n",
              "      <td>1.0</td>\n",
              "      <td>21.02</td>\n",
              "      <td></td>\n",
              "      <td></td>\n",
              "      <td>N</td>\n",
              "      <td>NaN</td>\n",
              "      <td>2228</td>\n",
              "    </tr>\n",
              "    <tr>\n",
              "      <th>1</th>\n",
              "      <td>ATOM</td>\n",
              "      <td>2</td>\n",
              "      <td></td>\n",
              "      <td>CA</td>\n",
              "      <td></td>\n",
              "      <td>VAL</td>\n",
              "      <td></td>\n",
              "      <td>A</td>\n",
              "      <td>15</td>\n",
              "      <td></td>\n",
              "      <td></td>\n",
              "      <td>242.790</td>\n",
              "      <td>167.265</td>\n",
              "      <td>235.486</td>\n",
              "      <td>1.0</td>\n",
              "      <td>20.16</td>\n",
              "      <td></td>\n",
              "      <td></td>\n",
              "      <td>C</td>\n",
              "      <td>NaN</td>\n",
              "      <td>2229</td>\n",
              "    </tr>\n",
              "    <tr>\n",
              "      <th>2</th>\n",
              "      <td>ATOM</td>\n",
              "      <td>3</td>\n",
              "      <td></td>\n",
              "      <td>C</td>\n",
              "      <td></td>\n",
              "      <td>VAL</td>\n",
              "      <td></td>\n",
              "      <td>A</td>\n",
              "      <td>15</td>\n",
              "      <td></td>\n",
              "      <td></td>\n",
              "      <td>241.467</td>\n",
              "      <td>167.937</td>\n",
              "      <td>235.173</td>\n",
              "      <td>1.0</td>\n",
              "      <td>20.05</td>\n",
              "      <td></td>\n",
              "      <td></td>\n",
              "      <td>C</td>\n",
              "      <td>NaN</td>\n",
              "      <td>2230</td>\n",
              "    </tr>\n",
              "    <tr>\n",
              "      <th>3</th>\n",
              "      <td>ATOM</td>\n",
              "      <td>4</td>\n",
              "      <td></td>\n",
              "      <td>O</td>\n",
              "      <td></td>\n",
              "      <td>VAL</td>\n",
              "      <td></td>\n",
              "      <td>A</td>\n",
              "      <td>15</td>\n",
              "      <td></td>\n",
              "      <td></td>\n",
              "      <td>241.446</td>\n",
              "      <td>169.111</td>\n",
              "      <td>234.795</td>\n",
              "      <td>1.0</td>\n",
              "      <td>20.22</td>\n",
              "      <td></td>\n",
              "      <td></td>\n",
              "      <td>O</td>\n",
              "      <td>NaN</td>\n",
              "      <td>2231</td>\n",
              "    </tr>\n",
              "    <tr>\n",
              "      <th>4</th>\n",
              "      <td>ATOM</td>\n",
              "      <td>5</td>\n",
              "      <td></td>\n",
              "      <td>CB</td>\n",
              "      <td></td>\n",
              "      <td>VAL</td>\n",
              "      <td></td>\n",
              "      <td>A</td>\n",
              "      <td>15</td>\n",
              "      <td></td>\n",
              "      <td></td>\n",
              "      <td>242.958</td>\n",
              "      <td>167.113</td>\n",
              "      <td>237.008</td>\n",
              "      <td>1.0</td>\n",
              "      <td>25.47</td>\n",
              "      <td></td>\n",
              "      <td></td>\n",
              "      <td>C</td>\n",
              "      <td>NaN</td>\n",
              "      <td>2232</td>\n",
              "    </tr>\n",
              "  </tbody>\n",
              "</table>\n",
              "</div>"
            ],
            "text/plain": [
              "  record_name  atom_number blank_1  ... element_symbol charge line_idx\n",
              "0        ATOM            1          ...              N    NaN     2228\n",
              "1        ATOM            2          ...              C    NaN     2229\n",
              "2        ATOM            3          ...              C    NaN     2230\n",
              "3        ATOM            4          ...              O    NaN     2231\n",
              "4        ATOM            5          ...              C    NaN     2232\n",
              "\n",
              "[5 rows x 21 columns]"
            ]
          },
          "metadata": {
            "tags": []
          },
          "execution_count": 50
        }
      ]
    },
    {
      "cell_type": "code",
      "metadata": {
        "id": "2lp4EYOV_oaD",
        "colab_type": "code",
        "colab": {
          "base_uri": "https://localhost:8080/",
          "height": 224
        },
        "outputId": "fd516b0c-3847-4f78-bd34-9e2dafb3b424"
      },
      "source": [
        "het_df = ppdb_df.df['HETATM']\n",
        "het_df.head()"
      ],
      "execution_count": 51,
      "outputs": [
        {
          "output_type": "execute_result",
          "data": {
            "text/html": [
              "<div>\n",
              "<style scoped>\n",
              "    .dataframe tbody tr th:only-of-type {\n",
              "        vertical-align: middle;\n",
              "    }\n",
              "\n",
              "    .dataframe tbody tr th {\n",
              "        vertical-align: top;\n",
              "    }\n",
              "\n",
              "    .dataframe thead th {\n",
              "        text-align: right;\n",
              "    }\n",
              "</style>\n",
              "<table border=\"1\" class=\"dataframe\">\n",
              "  <thead>\n",
              "    <tr style=\"text-align: right;\">\n",
              "      <th></th>\n",
              "      <th>record_name</th>\n",
              "      <th>atom_number</th>\n",
              "      <th>blank_1</th>\n",
              "      <th>atom_name</th>\n",
              "      <th>alt_loc</th>\n",
              "      <th>residue_name</th>\n",
              "      <th>blank_2</th>\n",
              "      <th>chain_id</th>\n",
              "      <th>residue_number</th>\n",
              "      <th>insertion</th>\n",
              "      <th>blank_3</th>\n",
              "      <th>x_coord</th>\n",
              "      <th>y_coord</th>\n",
              "      <th>z_coord</th>\n",
              "      <th>occupancy</th>\n",
              "      <th>b_factor</th>\n",
              "      <th>blank_4</th>\n",
              "      <th>segment_id</th>\n",
              "      <th>element_symbol</th>\n",
              "      <th>charge</th>\n",
              "      <th>line_idx</th>\n",
              "    </tr>\n",
              "  </thead>\n",
              "  <tbody>\n",
              "    <tr>\n",
              "      <th>0</th>\n",
              "      <td>HETATM</td>\n",
              "      <td>27454</td>\n",
              "      <td></td>\n",
              "      <td>C1</td>\n",
              "      <td></td>\n",
              "      <td>NAG</td>\n",
              "      <td></td>\n",
              "      <td>A</td>\n",
              "      <td>2133</td>\n",
              "      <td></td>\n",
              "      <td></td>\n",
              "      <td>231.126</td>\n",
              "      <td>169.511</td>\n",
              "      <td>248.342</td>\n",
              "      <td>1.0</td>\n",
              "      <td>42.26</td>\n",
              "      <td></td>\n",
              "      <td></td>\n",
              "      <td>C</td>\n",
              "      <td>NaN</td>\n",
              "      <td>29681</td>\n",
              "    </tr>\n",
              "    <tr>\n",
              "      <th>1</th>\n",
              "      <td>HETATM</td>\n",
              "      <td>27455</td>\n",
              "      <td></td>\n",
              "      <td>C2</td>\n",
              "      <td></td>\n",
              "      <td>NAG</td>\n",
              "      <td></td>\n",
              "      <td>A</td>\n",
              "      <td>2133</td>\n",
              "      <td></td>\n",
              "      <td></td>\n",
              "      <td>230.270</td>\n",
              "      <td>169.202</td>\n",
              "      <td>249.579</td>\n",
              "      <td>1.0</td>\n",
              "      <td>46.81</td>\n",
              "      <td></td>\n",
              "      <td></td>\n",
              "      <td>C</td>\n",
              "      <td>NaN</td>\n",
              "      <td>29682</td>\n",
              "    </tr>\n",
              "    <tr>\n",
              "      <th>2</th>\n",
              "      <td>HETATM</td>\n",
              "      <td>27456</td>\n",
              "      <td></td>\n",
              "      <td>C3</td>\n",
              "      <td></td>\n",
              "      <td>NAG</td>\n",
              "      <td></td>\n",
              "      <td>A</td>\n",
              "      <td>2133</td>\n",
              "      <td></td>\n",
              "      <td></td>\n",
              "      <td>231.202</td>\n",
              "      <td>169.463</td>\n",
              "      <td>250.765</td>\n",
              "      <td>1.0</td>\n",
              "      <td>52.01</td>\n",
              "      <td></td>\n",
              "      <td></td>\n",
              "      <td>C</td>\n",
              "      <td>NaN</td>\n",
              "      <td>29683</td>\n",
              "    </tr>\n",
              "    <tr>\n",
              "      <th>3</th>\n",
              "      <td>HETATM</td>\n",
              "      <td>27457</td>\n",
              "      <td></td>\n",
              "      <td>C4</td>\n",
              "      <td></td>\n",
              "      <td>NAG</td>\n",
              "      <td></td>\n",
              "      <td>A</td>\n",
              "      <td>2133</td>\n",
              "      <td></td>\n",
              "      <td></td>\n",
              "      <td>232.433</td>\n",
              "      <td>168.550</td>\n",
              "      <td>250.708</td>\n",
              "      <td>1.0</td>\n",
              "      <td>56.17</td>\n",
              "      <td></td>\n",
              "      <td></td>\n",
              "      <td>C</td>\n",
              "      <td>NaN</td>\n",
              "      <td>29684</td>\n",
              "    </tr>\n",
              "    <tr>\n",
              "      <th>4</th>\n",
              "      <td>HETATM</td>\n",
              "      <td>27458</td>\n",
              "      <td></td>\n",
              "      <td>C5</td>\n",
              "      <td></td>\n",
              "      <td>NAG</td>\n",
              "      <td></td>\n",
              "      <td>A</td>\n",
              "      <td>2133</td>\n",
              "      <td></td>\n",
              "      <td></td>\n",
              "      <td>233.124</td>\n",
              "      <td>168.838</td>\n",
              "      <td>249.377</td>\n",
              "      <td>1.0</td>\n",
              "      <td>48.37</td>\n",
              "      <td></td>\n",
              "      <td></td>\n",
              "      <td>C</td>\n",
              "      <td>NaN</td>\n",
              "      <td>29685</td>\n",
              "    </tr>\n",
              "  </tbody>\n",
              "</table>\n",
              "</div>"
            ],
            "text/plain": [
              "  record_name  atom_number blank_1  ... element_symbol charge line_idx\n",
              "0      HETATM        27454          ...              C    NaN    29681\n",
              "1      HETATM        27455          ...              C    NaN    29682\n",
              "2      HETATM        27456          ...              C    NaN    29683\n",
              "3      HETATM        27457          ...              C    NaN    29684\n",
              "4      HETATM        27458          ...              C    NaN    29685\n",
              "\n",
              "[5 rows x 21 columns]"
            ]
          },
          "metadata": {
            "tags": []
          },
          "execution_count": 51
        }
      ]
    },
    {
      "cell_type": "markdown",
      "metadata": {
        "id": "iPLL35Jf5stt",
        "colab_type": "text"
      },
      "source": [
        "**Visualize the b_factor**\n",
        "\n",
        "what is b_factor?\n",
        "\n",
        "The B-factor describes the displacement of the atomic positions from an average (mean) value (mean-square displacement).\n",
        "\n",
        "The core of the molecule usually has low B-factors, due to tight packing of the side chains (enzyme active sites are usually located there). The values of the B-factors are normally between 15 to 30 (sq. Angstroms), but often much higher than 30 for flexible regions."
      ]
    },
    {
      "cell_type": "code",
      "metadata": {
        "id": "mZzQpgSm5rqu",
        "colab_type": "code",
        "colab": {}
      },
      "source": [
        "import matplotlib.pyplot as plt"
      ],
      "execution_count": 0,
      "outputs": []
    },
    {
      "cell_type": "code",
      "metadata": {
        "id": "_X08PAN_6P5n",
        "colab_type": "code",
        "colab": {
          "base_uri": "https://localhost:8080/",
          "height": 312
        },
        "outputId": "a2023c90-b129-4a39-b3dc-74048ffe07ca"
      },
      "source": [
        "atom_df['b_factor'].plot(kind='hist')\n",
        "plt.title('B-Factor of human coronavirus')\n",
        "plt.xlabel('B-Factor')"
      ],
      "execution_count": 53,
      "outputs": [
        {
          "output_type": "execute_result",
          "data": {
            "text/plain": [
              "Text(0.5, 0, 'B-Factor')"
            ]
          },
          "metadata": {
            "tags": []
          },
          "execution_count": 53
        },
        {
          "output_type": "display_data",
          "data": {
            "image/png": "[encoded data removed]",
            "text/plain": [
              "<Figure size 432x288 with 1 Axes>"
            ]
          },
          "metadata": {
            "tags": [],
            "needs_background": "light"
          }
        }
      ]
    },
    {
      "cell_type": "code",
      "metadata": {
        "id": "KeVEGAgk8apv",
        "colab_type": "code",
        "colab": {
          "base_uri": "https://localhost:8080/",
          "height": 34
        },
        "outputId": "f2e42013-3e71-4fed-936e-d32aab3938fc"
      },
      "source": [
        "atom_df.element_symbol.unique()"
      ],
      "execution_count": 54,
      "outputs": [
        {
          "output_type": "execute_result",
          "data": {
            "text/plain": [
              "array(['N', 'C', 'O', 'S'], dtype=object)"
            ]
          },
          "metadata": {
            "tags": []
          },
          "execution_count": 54
        }
      ]
    },
    {
      "cell_type": "code",
      "metadata": {
        "id": "7WErvsPf-qjF",
        "colab_type": "code",
        "colab": {
          "base_uri": "https://localhost:8080/",
          "height": 310
        },
        "outputId": "df30d785-6686-4f0e-8adb-8d46d324c137"
      },
      "source": [
        "atom_df['element_symbol'].value_counts().plot(kind='bar')\n",
        "plt.title('Element symbol distribution')\n",
        "plt.ylabel('Count')\n",
        "plt.xlabel('Element symbol')"
      ],
      "execution_count": 55,
      "outputs": [
        {
          "output_type": "execute_result",
          "data": {
            "text/plain": [
              "Text(0.5, 0, 'Element symbol')"
            ]
          },
          "metadata": {
            "tags": []
          },
          "execution_count": 55
        },
        {
          "output_type": "display_data",
          "data": {
            "image/png": "[encoded data removed]",
            "text/plain": [
              "<Figure size 432x288 with 1 Axes>"
            ]
          },
          "metadata": {
            "tags": [],
            "needs_background": "light"
          }
        }
      ]
    },
    {
      "cell_type": "code",
      "metadata": {
        "id": "s7f9RUz1BHTs",
        "colab_type": "code",
        "colab": {
          "base_uri": "https://localhost:8080/",
          "height": 543
        },
        "outputId": "c3e74fa7-3ee4-4efd-ad1d-5bd65662040e"
      },
      "source": [
        "atom_df['atom_name'].value_counts().plot(kind='bar', figsize=(10,8))\n",
        "plt.title('Atom name distribution')\n",
        "plt.ylabel('Count')\n",
        "plt.xlabel('atom_name symbol')"
      ],
      "execution_count": 56,
      "outputs": [
        {
          "output_type": "execute_result",
          "data": {
            "text/plain": [
              "Text(0.5, 0, 'atom_name symbol')"
            ]
          },
          "metadata": {
            "tags": []
          },
          "execution_count": 56
        },
        {
          "output_type": "display_data",
          "data": {
            "image/png": "[encoded data removed]",
            "text/plain": [
              "<Figure size 720x576 with 1 Axes>"
            ]
          },
          "metadata": {
            "tags": [],
            "needs_background": "light"
          }
        }
      ]
    },
    {
      "cell_type": "markdown",
      "metadata": {
        "id": "IwR18MVD_YnN",
        "colab_type": "text"
      },
      "source": [
        "In PDB file formats , TER records separate protein and nucleic acid chains.But in 6nzk.pdb no such records are there."
      ]
    },
    {
      "cell_type": "code",
      "metadata": {
        "id": "uialeDAG--8i",
        "colab_type": "code",
        "colab": {
          "base_uri": "https://localhost:8080/",
          "height": 69
        },
        "outputId": "22ea6f03-2666-4e0b-ffbf-fe632c7aa6d8"
      },
      "source": [
        "atom_df[atom_df['record_name'] == 'TER']"
      ],
      "execution_count": 57,
      "outputs": [
        {
          "output_type": "execute_result",
          "data": {
            "text/html": [
              "<div>\n",
              "<style scoped>\n",
              "    .dataframe tbody tr th:only-of-type {\n",
              "        vertical-align: middle;\n",
              "    }\n",
              "\n",
              "    .dataframe tbody tr th {\n",
              "        vertical-align: top;\n",
              "    }\n",
              "\n",
              "    .dataframe thead th {\n",
              "        text-align: right;\n",
              "    }\n",
              "</style>\n",
              "<table border=\"1\" class=\"dataframe\">\n",
              "  <thead>\n",
              "    <tr style=\"text-align: right;\">\n",
              "      <th></th>\n",
              "      <th>record_name</th>\n",
              "      <th>atom_number</th>\n",
              "      <th>blank_1</th>\n",
              "      <th>atom_name</th>\n",
              "      <th>alt_loc</th>\n",
              "      <th>residue_name</th>\n",
              "      <th>blank_2</th>\n",
              "      <th>chain_id</th>\n",
              "      <th>residue_number</th>\n",
              "      <th>insertion</th>\n",
              "      <th>blank_3</th>\n",
              "      <th>x_coord</th>\n",
              "      <th>y_coord</th>\n",
              "      <th>z_coord</th>\n",
              "      <th>occupancy</th>\n",
              "      <th>b_factor</th>\n",
              "      <th>blank_4</th>\n",
              "      <th>segment_id</th>\n",
              "      <th>element_symbol</th>\n",
              "      <th>charge</th>\n",
              "      <th>line_idx</th>\n",
              "    </tr>\n",
              "  </thead>\n",
              "  <tbody>\n",
              "  </tbody>\n",
              "</table>\n",
              "</div>"
            ],
            "text/plain": [
              "Empty DataFrame\n",
              "Columns: [record_name, atom_number, blank_1, atom_name, alt_loc, residue_name, blank_2, chain_id, residue_number, insertion, blank_3, x_coord, y_coord, z_coord, occupancy, b_factor, blank_4, segment_id, element_symbol, charge, line_idx]\n",
              "Index: []"
            ]
          },
          "metadata": {
            "tags": []
          },
          "execution_count": 57
        }
      ]
    },
    {
      "cell_type": "markdown",
      "metadata": {
        "id": "6ycejD_8DS5G",
        "colab_type": "text"
      },
      "source": [
        "# Analysis of COVID-19 virus\n",
        "\n",
        "dataset source: [COVID-19](https://www.rcsb.org/structure/6lu7)"
      ]
    },
    {
      "cell_type": "code",
      "metadata": {
        "id": "xxhBCDcODe4G",
        "colab_type": "code",
        "colab": {}
      },
      "source": [
        "ppdb_df =  PandasPdb().read_pdb('6lu7.pdb')"
      ],
      "execution_count": 0,
      "outputs": []
    },
    {
      "cell_type": "code",
      "metadata": {
        "id": "2uqdc8dWDp8-",
        "colab_type": "code",
        "colab": {}
      },
      "source": [
        "catom_df = ppdb_df.df['ATOM']\n",
        "chtm_df = ppdb_df.df['HETATM']"
      ],
      "execution_count": 0,
      "outputs": []
    },
    {
      "cell_type": "code",
      "metadata": {
        "id": "2n9KpBbNDv3m",
        "colab_type": "code",
        "colab": {
          "base_uri": "https://localhost:8080/",
          "height": 224
        },
        "outputId": "5125ef1b-7805-4bd0-9cc9-48d9f6943720"
      },
      "source": [
        "catom_df.head()"
      ],
      "execution_count": 63,
      "outputs": [
        {
          "output_type": "execute_result",
          "data": {
            "text/html": [
              "<div>\n",
              "<style scoped>\n",
              "    .dataframe tbody tr th:only-of-type {\n",
              "        vertical-align: middle;\n",
              "    }\n",
              "\n",
              "    .dataframe tbody tr th {\n",
              "        vertical-align: top;\n",
              "    }\n",
              "\n",
              "    .dataframe thead th {\n",
              "        text-align: right;\n",
              "    }\n",
              "</style>\n",
              "<table border=\"1\" class=\"dataframe\">\n",
              "  <thead>\n",
              "    <tr style=\"text-align: right;\">\n",
              "      <th></th>\n",
              "      <th>record_name</th>\n",
              "      <th>atom_number</th>\n",
              "      <th>blank_1</th>\n",
              "      <th>atom_name</th>\n",
              "      <th>alt_loc</th>\n",
              "      <th>residue_name</th>\n",
              "      <th>blank_2</th>\n",
              "      <th>chain_id</th>\n",
              "      <th>residue_number</th>\n",
              "      <th>insertion</th>\n",
              "      <th>blank_3</th>\n",
              "      <th>x_coord</th>\n",
              "      <th>y_coord</th>\n",
              "      <th>z_coord</th>\n",
              "      <th>occupancy</th>\n",
              "      <th>b_factor</th>\n",
              "      <th>blank_4</th>\n",
              "      <th>segment_id</th>\n",
              "      <th>element_symbol</th>\n",
              "      <th>charge</th>\n",
              "      <th>line_idx</th>\n",
              "    </tr>\n",
              "  </thead>\n",
              "  <tbody>\n",
              "    <tr>\n",
              "      <th>0</th>\n",
              "      <td>ATOM</td>\n",
              "      <td>1</td>\n",
              "      <td></td>\n",
              "      <td>N</td>\n",
              "      <td></td>\n",
              "      <td>SER</td>\n",
              "      <td></td>\n",
              "      <td>A</td>\n",
              "      <td>1</td>\n",
              "      <td></td>\n",
              "      <td></td>\n",
              "      <td>-32.073</td>\n",
              "      <td>9.085</td>\n",
              "      <td>33.695</td>\n",
              "      <td>1.0</td>\n",
              "      <td>38.90</td>\n",
              "      <td></td>\n",
              "      <td></td>\n",
              "      <td>N</td>\n",
              "      <td>NaN</td>\n",
              "      <td>424</td>\n",
              "    </tr>\n",
              "    <tr>\n",
              "      <th>1</th>\n",
              "      <td>ATOM</td>\n",
              "      <td>2</td>\n",
              "      <td></td>\n",
              "      <td>CA</td>\n",
              "      <td></td>\n",
              "      <td>SER</td>\n",
              "      <td></td>\n",
              "      <td>A</td>\n",
              "      <td>1</td>\n",
              "      <td></td>\n",
              "      <td></td>\n",
              "      <td>-32.156</td>\n",
              "      <td>8.073</td>\n",
              "      <td>34.741</td>\n",
              "      <td>1.0</td>\n",
              "      <td>37.44</td>\n",
              "      <td></td>\n",
              "      <td></td>\n",
              "      <td>C</td>\n",
              "      <td>NaN</td>\n",
              "      <td>425</td>\n",
              "    </tr>\n",
              "    <tr>\n",
              "      <th>2</th>\n",
              "      <td>ATOM</td>\n",
              "      <td>3</td>\n",
              "      <td></td>\n",
              "      <td>C</td>\n",
              "      <td></td>\n",
              "      <td>SER</td>\n",
              "      <td></td>\n",
              "      <td>A</td>\n",
              "      <td>1</td>\n",
              "      <td></td>\n",
              "      <td></td>\n",
              "      <td>-30.857</td>\n",
              "      <td>8.000</td>\n",
              "      <td>35.536</td>\n",
              "      <td>1.0</td>\n",
              "      <td>34.96</td>\n",
              "      <td></td>\n",
              "      <td></td>\n",
              "      <td>C</td>\n",
              "      <td>NaN</td>\n",
              "      <td>426</td>\n",
              "    </tr>\n",
              "    <tr>\n",
              "      <th>3</th>\n",
              "      <td>ATOM</td>\n",
              "      <td>4</td>\n",
              "      <td></td>\n",
              "      <td>O</td>\n",
              "      <td></td>\n",
              "      <td>SER</td>\n",
              "      <td></td>\n",
              "      <td>A</td>\n",
              "      <td>1</td>\n",
              "      <td></td>\n",
              "      <td></td>\n",
              "      <td>-30.047</td>\n",
              "      <td>8.926</td>\n",
              "      <td>35.507</td>\n",
              "      <td>1.0</td>\n",
              "      <td>33.29</td>\n",
              "      <td></td>\n",
              "      <td></td>\n",
              "      <td>O</td>\n",
              "      <td>NaN</td>\n",
              "      <td>427</td>\n",
              "    </tr>\n",
              "    <tr>\n",
              "      <th>4</th>\n",
              "      <td>ATOM</td>\n",
              "      <td>5</td>\n",
              "      <td></td>\n",
              "      <td>CB</td>\n",
              "      <td></td>\n",
              "      <td>SER</td>\n",
              "      <td></td>\n",
              "      <td>A</td>\n",
              "      <td>1</td>\n",
              "      <td></td>\n",
              "      <td></td>\n",
              "      <td>-32.483</td>\n",
              "      <td>6.704</td>\n",
              "      <td>34.140</td>\n",
              "      <td>1.0</td>\n",
              "      <td>44.07</td>\n",
              "      <td></td>\n",
              "      <td></td>\n",
              "      <td>C</td>\n",
              "      <td>NaN</td>\n",
              "      <td>428</td>\n",
              "    </tr>\n",
              "  </tbody>\n",
              "</table>\n",
              "</div>"
            ],
            "text/plain": [
              "  record_name  atom_number blank_1  ... element_symbol charge line_idx\n",
              "0        ATOM            1          ...              N    NaN      424\n",
              "1        ATOM            2          ...              C    NaN      425\n",
              "2        ATOM            3          ...              C    NaN      426\n",
              "3        ATOM            4          ...              O    NaN      427\n",
              "4        ATOM            5          ...              C    NaN      428\n",
              "\n",
              "[5 rows x 21 columns]"
            ]
          },
          "metadata": {
            "tags": []
          },
          "execution_count": 63
        }
      ]
    },
    {
      "cell_type": "code",
      "metadata": {
        "id": "w_RT82_FD29q",
        "colab_type": "code",
        "colab": {
          "base_uri": "https://localhost:8080/",
          "height": 312
        },
        "outputId": "52ac529d-91f2-4997-8a4f-1859aa56655a"
      },
      "source": [
        "catom_df['b_factor'].plot(kind='hist')\n",
        "plt.title('B-Factor of COVID-19')\n",
        "plt.xlabel('B-Factor')"
      ],
      "execution_count": 67,
      "outputs": [
        {
          "output_type": "execute_result",
          "data": {
            "text/plain": [
              "Text(0.5, 0, 'B-Factor')"
            ]
          },
          "metadata": {
            "tags": []
          },
          "execution_count": 67
        },
        {
          "output_type": "display_data",
          "data": {
            "image/png": "[encoded data removed]",
            "text/plain": [
              "<Figure size 432x288 with 1 Axes>"
            ]
          },
          "metadata": {
            "tags": [],
            "needs_background": "light"
          }
        }
      ]
    },
    {
      "cell_type": "code",
      "metadata": {
        "id": "cmJmaZ6UEbmf",
        "colab_type": "code",
        "colab": {
          "base_uri": "https://localhost:8080/",
          "height": 310
        },
        "outputId": "e3639601-9a8d-4571-9f86-bf052942faaa"
      },
      "source": [
        "catom_df['element_symbol'].value_counts().plot(kind='bar')\n",
        "plt.title('Element symbol distribution')\n",
        "plt.ylabel('Count')\n",
        "plt.xlabel('Element symbol')"
      ],
      "execution_count": 68,
      "outputs": [
        {
          "output_type": "execute_result",
          "data": {
            "text/plain": [
              "Text(0.5, 0, 'Element symbol')"
            ]
          },
          "metadata": {
            "tags": []
          },
          "execution_count": 68
        },
        {
          "output_type": "display_data",
          "data": {
            "image/png": "[encoded data removed]",
            "text/plain": [
              "<Figure size 432x288 with 1 Axes>"
            ]
          },
          "metadata": {
            "tags": [],
            "needs_background": "light"
          }
        }
      ]
    },
    {
      "cell_type": "code",
      "metadata": {
        "id": "9cRQIYt4G-HC",
        "colab_type": "code",
        "colab": {
          "base_uri": "https://localhost:8080/",
          "height": 543
        },
        "outputId": "b4f35981-9fd7-4279-dea9-24e73f1ff2d7"
      },
      "source": [
        "catom_df['atom_name'].value_counts().plot(kind='bar', figsize=(10,8))\n",
        "plt.title('Atom name distribution')\n",
        "plt.ylabel('Count')\n",
        "plt.xlabel('atom_name symbol')"
      ],
      "execution_count": 81,
      "outputs": [
        {
          "output_type": "execute_result",
          "data": {
            "text/plain": [
              "Text(0.5, 0, 'atom_name symbol')"
            ]
          },
          "metadata": {
            "tags": []
          },
          "execution_count": 81
        },
        {
          "output_type": "display_data",
          "data": {
            "image/png": "[encoded data removed]",
            "text/plain": [
              "<Figure size 720x576 with 1 Axes>"
            ]
          },
          "metadata": {
            "tags": [],
            "needs_background": "light"
          }
        }
      ]
    },
    {
      "cell_type": "markdown",
      "metadata": {
        "id": "aUREfBW6HTgY",
        "colab_type": "text"
      },
      "source": [
        "# Insights from the above findings\n",
        "\n",
        "It is observed that **COVID-19 has high b_factor** which means it is **not tightly packed**"
      ]
    }
  ]
}