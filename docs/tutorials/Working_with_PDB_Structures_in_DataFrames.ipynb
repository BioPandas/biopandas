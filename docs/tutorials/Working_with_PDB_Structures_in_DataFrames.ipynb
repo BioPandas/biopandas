{
 "cells": [
  {
   "cell_type": "markdown",
   "metadata": {},
   "source": [
    "BioPandas\n",
    "\n",
    "Author: Sebastian Raschka <mail@sebastianraschka.com>  \n",
    "License: BSD 3 clause  \n",
    "Project Website: http://rasbt.github.io/biopandas/  \n",
    "Code Repository: https://github.com/rasbt/biopandas  "
   ]
  },
  {
   "cell_type": "code",
   "execution_count": 1,
   "metadata": {
    "ExecuteTime": {
     "end_time": "2024-05-05T09:31:43.091544600Z",
     "start_time": "2024-05-05T09:31:42.664452200Z"
    }
   },
   "outputs": [
    {
     "name": "stdout",
     "output_type": "stream",
     "text": [
      "Last updated: 2024-05-05\n",
      "\n",
      "pandas   : 2.2.1\n",
      "biopandas: 0.5.1.dev0\n"
     ]
    }
   ],
   "source": [
    "%load_ext watermark\n",
    "%watermark -d -u -p pandas,biopandas"
   ]
  },
  {
   "cell_type": "code",
   "execution_count": 2,
   "metadata": {
    "ExecuteTime": {
     "end_time": "2024-05-05T09:31:43.169625900Z",
     "start_time": "2024-05-05T09:31:43.090545300Z"
    }
   },
   "outputs": [],
   "source": [
    "from biopandas.pdb import PandasPdb\n",
    "import pandas as pd\n",
    "pd.set_option('display.width', 600)\n",
    "pd.set_option('display.max_columns', 8)"
   ]
  },
  {
   "cell_type": "markdown",
   "metadata": {},
   "source": [
    "# Working with PDB Structures in DataFrames"
   ]
  },
  {
   "cell_type": "markdown",
   "metadata": {},
   "source": [
    "## Loading PDB Files"
   ]
  },
  {
   "cell_type": "markdown",
   "metadata": {},
   "source": [
    "There are several ways to load a PDB structure into a `PandasPdb` object.\n"
   ]
  },
  {
   "cell_type": "markdown",
   "metadata": {},
   "source": [
    "### 1 -- Loading a PDB file from the Protein Data Bank\n",
    "\n",
    "PDB files can be directly fetched from The Protein Data Bank at [http://www.rcsb.org](http://www.rcsb.org) via its unique 4-letter after initializing a new [`PandasPdb`](../api/biopandas.pdb#pandaspdb) object and calling the [`fetch_pdb`](../api/biopandas.pdb#pandaspdbfetch_pdb) method:"
   ]
  },
  {
   "cell_type": "code",
   "execution_count": 3,
   "metadata": {
    "ExecuteTime": {
     "end_time": "2024-05-05T09:31:44.637068500Z",
     "start_time": "2024-05-05T09:31:43.099599Z"
    }
   },
   "outputs": [],
   "source": [
    "from biopandas.pdb import PandasPdb\n",
    "\n",
    "# Initialize a new PandasPdb object\n",
    "# and fetch the PDB file from rcsb.org\n",
    "ppdb = PandasPdb().fetch_pdb('3eiy')"
   ]
  },
  {
   "cell_type": "markdown",
   "metadata": {},
   "source": [
    "### 2 -- Loading a PDB file from the AlphaFold Structure Database"
   ]
  },
  {
   "cell_type": "markdown",
   "metadata": {},
   "source": [
    "\n",
    "(*New in version 0.4.0*)"
   ]
  },
  {
   "cell_type": "markdown",
   "metadata": {},
   "source": [
    "PDB files can be directly fetched from The AlphaFold Structure Database at [https://alphafold.ebi.ac.uk/](https://alphafold.ebi.ac.uk/) via its unique [UniProt](https://www.uniprot.org/) Identifier after initializing a new [`PandasPdb`](../api/biopandas.pdb#pandaspdb) object and calling the [`fetch_af2`](../api/biopandas.pdb#pandaspdbfetch_pdb) method:"
   ]
  },
  {
   "cell_type": "code",
   "execution_count": 4,
   "metadata": {
    "ExecuteTime": {
     "end_time": "2024-05-05T09:31:45.357358500Z",
     "start_time": "2024-05-05T09:31:44.639092200Z"
    }
   },
   "outputs": [
    {
     "ename": "ValueError",
     "evalue": "Invalid source: alphafold2-v2. Please use one of 'pdb' or 'alphafold2-v3' or 'alphafold2-v4'.",
     "output_type": "error",
     "traceback": [
      "\u001B[1;31m---------------------------------------------------------------------------\u001B[0m",
      "\u001B[1;31mValueError\u001B[0m                                Traceback (most recent call last)",
      "Cell \u001B[1;32mIn[4], line 5\u001B[0m\n\u001B[0;32m      1\u001B[0m \u001B[38;5;28;01mfrom\u001B[39;00m \u001B[38;5;21;01mbiopandas\u001B[39;00m\u001B[38;5;21;01m.\u001B[39;00m\u001B[38;5;21;01mpdb\u001B[39;00m \u001B[38;5;28;01mimport\u001B[39;00m PandasPdb\n\u001B[0;32m      3\u001B[0m \u001B[38;5;66;03m# Initialize a new PandasPdb object\u001B[39;00m\n\u001B[0;32m      4\u001B[0m \u001B[38;5;66;03m# and fetch the PDB file from alphafold.ebi.ac.uk\u001B[39;00m\n\u001B[1;32m----> 5\u001B[0m ppdb \u001B[38;5;241m=\u001B[39m PandasPdb()\u001B[38;5;241m.\u001B[39mfetch_pdb(uniprot_id\u001B[38;5;241m=\u001B[39m\u001B[38;5;124m'\u001B[39m\u001B[38;5;124mQ5VSL9\u001B[39m\u001B[38;5;124m'\u001B[39m, source\u001B[38;5;241m=\u001B[39m\u001B[38;5;124m\"\u001B[39m\u001B[38;5;124malphafold2-v2\u001B[39m\u001B[38;5;124m\"\u001B[39m)\n",
      "File \u001B[1;32mD:\\work\\huji\\biopandas\\biopandas\\pdb\\pandas_pdb.py:167\u001B[0m, in \u001B[0;36mPandasPdb.fetch_pdb\u001B[1;34m(self, pdb_code, uniprot_id, source)\u001B[0m\n\u001B[0;32m    165\u001B[0m     \u001B[38;5;28mself\u001B[39m\u001B[38;5;241m.\u001B[39mpdb_path, \u001B[38;5;28mself\u001B[39m\u001B[38;5;241m.\u001B[39mpdb_text \u001B[38;5;241m=\u001B[39m \u001B[38;5;28mself\u001B[39m\u001B[38;5;241m.\u001B[39m_fetch_pdb(pdb_code)\n\u001B[0;32m    166\u001B[0m \u001B[38;5;28;01melse\u001B[39;00m:\n\u001B[1;32m--> 167\u001B[0m     \u001B[38;5;28;01mraise\u001B[39;00m \u001B[38;5;167;01mValueError\u001B[39;00m(\u001B[38;5;124mf\u001B[39m\u001B[38;5;124m\"\u001B[39m\u001B[38;5;124mInvalid source: \u001B[39m\u001B[38;5;132;01m{\u001B[39;00msource\u001B[38;5;132;01m}\u001B[39;00m\u001B[38;5;124m.\u001B[39m\u001B[38;5;124m\"\u001B[39m\n\u001B[0;32m    168\u001B[0m         \u001B[38;5;124m\"\u001B[39m\u001B[38;5;124m Please use one of \u001B[39m\u001B[38;5;124m'\u001B[39m\u001B[38;5;124mpdb\u001B[39m\u001B[38;5;124m'\u001B[39m\u001B[38;5;124m or \u001B[39m\u001B[38;5;124m'\u001B[39m\u001B[38;5;124malphafold2-v3\u001B[39m\u001B[38;5;124m'\u001B[39m\u001B[38;5;124m or \u001B[39m\u001B[38;5;124m'\u001B[39m\u001B[38;5;124malphafold2-v4\u001B[39m\u001B[38;5;124m'\u001B[39m\u001B[38;5;124m.\u001B[39m\u001B[38;5;124m\"\u001B[39m)\n\u001B[0;32m    170\u001B[0m \u001B[38;5;28mself\u001B[39m\u001B[38;5;241m.\u001B[39m_df \u001B[38;5;241m=\u001B[39m \u001B[38;5;28mself\u001B[39m\u001B[38;5;241m.\u001B[39m_construct_df(pdb_lines\u001B[38;5;241m=\u001B[39m\u001B[38;5;28mself\u001B[39m\u001B[38;5;241m.\u001B[39mpdb_text\u001B[38;5;241m.\u001B[39msplitlines(\u001B[38;5;28;01mTrue\u001B[39;00m))\n\u001B[0;32m    171\u001B[0m \u001B[38;5;28;01mreturn\u001B[39;00m \u001B[38;5;28mself\u001B[39m\n",
      "\u001B[1;31mValueError\u001B[0m: Invalid source: alphafold2-v2. Please use one of 'pdb' or 'alphafold2-v3' or 'alphafold2-v4'."
     ]
    }
   ],
   "source": [
    "from biopandas.pdb import PandasPdb\n",
    "\n",
    "# Initialize a new PandasPdb object\n",
    "# and fetch the PDB file from alphafold.ebi.ac.uk\n",
    "ppdb = PandasPdb().fetch_pdb(uniprot_id='Q5VSL9', source=\"alphafold2-v2\")"
   ]
  },
  {
   "cell_type": "code",
   "execution_count": null,
   "metadata": {
    "ExecuteTime": {
     "start_time": "2024-05-05T09:31:45.344766900Z"
    }
   },
   "outputs": [],
   "source": [
    "ppdb.df[\"ATOM\"]"
   ]
  },
  {
   "cell_type": "markdown",
   "metadata": {},
   "source": [
    "### 3 a) -- Loading a PDB structure from a local file\n",
    "\n",
    "\n",
    "Alternatively, we can load PDB files from local directories as regular PDB files using [`read_pdb`](../api/biopandas.pdb#pandaspdbread_pdb):"
   ]
  },
  {
   "cell_type": "code",
   "execution_count": null,
   "metadata": {
    "ExecuteTime": {
     "start_time": "2024-05-05T09:31:45.346793200Z"
    }
   },
   "outputs": [],
   "source": [
    "ppdb.read_pdb('./data/3eiy.pdb')"
   ]
  },
  {
   "cell_type": "markdown",
   "metadata": {},
   "source": [
    "[File link: [3eiy.pdb](https://raw.githubusercontent.com/rasbt/biopandas/main/docs/tutorials/data/3eiy.pdb)]"
   ]
  },
  {
   "cell_type": "markdown",
   "metadata": {},
   "source": [
    "### 3 b) -- Loading a PDB structure from a local gzipped PDB file\n",
    "\n",
    "Or, we can load them from gzip archives like so (note that the file must end with a '.gz' suffix in order to be recognized as a gzip file):"
   ]
  },
  {
   "cell_type": "code",
   "execution_count": null,
   "metadata": {
    "ExecuteTime": {
     "start_time": "2024-05-05T09:31:45.348793500Z"
    }
   },
   "outputs": [],
   "source": [
    "ppdb.read_pdb('./data/3eiy.pdb.gz')"
   ]
  },
  {
   "cell_type": "markdown",
   "metadata": {},
   "source": [
    "[File link: [3eiy.pdb.gz](https://github.com/rasbt/biopandas/blob/main/docs/tutorials/data/3eiy.pdb.gz?raw=true)]"
   ]
  },
  {
   "cell_type": "markdown",
   "metadata": {},
   "source": [
    "After the file was succesfully loaded, we have access to the following attributes:"
   ]
  },
  {
   "cell_type": "code",
   "execution_count": null,
   "metadata": {
    "ExecuteTime": {
     "start_time": "2024-05-05T09:31:45.350892900Z"
    }
   },
   "outputs": [],
   "source": [
    "print('PDB Code: %s' % ppdb.code)\n",
    "print('PDB Header Line: %s' % ppdb.header)\n",
    "print('\\nRaw PDB file contents:\\n\\n%s\\n...' % ppdb.pdb_text[:1000])"
   ]
  },
  {
   "cell_type": "markdown",
   "metadata": {},
   "source": [
    "The most interesting / useful attribute is the [`PandasPdb.df`](../api/biopandas.pdb#pandaspdbdf) DataFrame dictionary though, which gives us access to the PDB files as pandas DataFrames. Let's print the first 3 lines from the `ATOM` coordinate section to see how it looks like:"
   ]
  },
  {
   "cell_type": "code",
   "execution_count": null,
   "metadata": {
    "ExecuteTime": {
     "start_time": "2024-05-05T09:31:45.352396900Z"
    }
   },
   "outputs": [],
   "source": [
    "ppdb.df['ATOM'].head(3)"
   ]
  },
  {
   "cell_type": "markdown",
   "metadata": {},
   "source": [
    "But more on that in the next section."
   ]
  },
  {
   "cell_type": "markdown",
   "metadata": {},
   "source": [
    "### 4 -- Loading a PDB file from a Python list"
   ]
  },
  {
   "cell_type": "markdown",
   "metadata": {},
   "source": [
    "Since biopandas 0.3.0, PDB files can also be loaded into a PandasPdb object from a Python list:"
   ]
  },
  {
   "cell_type": "code",
   "execution_count": null,
   "metadata": {
    "ExecuteTime": {
     "start_time": "2024-05-05T09:31:45.355144600Z"
    }
   },
   "outputs": [],
   "source": [
    "with open('./data/3eiy.pdb', 'r') as f:\n",
    "    three_eiy = f.readlines()\n",
    "\n",
    "ppdb2 = PandasPdb()\n",
    "ppdb2.read_pdb_from_list(three_eiy)\n",
    "\n",
    "ppdb2.df['ATOM'].head()"
   ]
  },
  {
   "cell_type": "markdown",
   "metadata": {},
   "source": [
    "### 5 -- Obtaining a PDB file from a mmCIF structure"
   ]
  },
  {
   "cell_type": "markdown",
   "metadata": {},
   "source": [
    "Since v0.5.0, it is now also possible to obtain a `PandasPdb` object from a mmCIF file, using `PandasMmcift`'s `PandasMmcif.get_pandas_pdb()`:"
   ]
  },
  {
   "cell_type": "code",
   "execution_count": null,
   "metadata": {
    "ExecuteTime": {
     "start_time": "2024-05-05T09:31:45.356285500Z"
    }
   },
   "outputs": [],
   "source": [
    "from biopandas.mmcif import PandasMmcif\n",
    "\n",
    "\n",
    "mmcif = PandasMmcif().fetch_mmcif(\"3EIY\")\n",
    "pdb = mmcif.convert_to_pandas_pdb()\n",
    "\n",
    "print(\"Type:\", type(pdb))\n",
    "pdb.df[\"ATOM\"].head()    "
   ]
  },
  {
   "cell_type": "markdown",
   "metadata": {},
   "source": [
    "## Looking at PDBs in DataFrames"
   ]
  },
  {
   "cell_type": "markdown",
   "metadata": {},
   "source": [
    "PDB files are parsed according to the [PDB file format description](http://www.rcsb.org/pdb/static.do?p=file_formats/pdb/index.html). More specifically, BioPandas reads the columns of the ATOM and HETATM sections as shown in the following excerpt from [http://deposit.rcsb.org/adit/docs/pdb_atom_format.html#ATOM](http://deposit.rcsb.org/adit/docs/pdb_atom_format.html#ATOM)."
   ]
  },
  {
   "cell_type": "markdown",
   "metadata": {},
   "source": [
    "| COLUMNS | DATA TYPE    | CONTENTS                                   | biopandas column name |\n",
    "|---------|--------------|--------------------------------------------|-----------------------|\n",
    "| 1 - 6   | Record name  | \"ATOM\"                                     | record_name           |\n",
    "| 7 - 11  | Integer      | Atom serial number.                        | atom_number           |\n",
    "| 12      |              |                                            | blank_1               |\n",
    "| 13 - 16 | Atom         | Atom name.                                 | atom_name             |\n",
    "| 17      | Character    | Alternate location indicator.              | alt_loc               |\n",
    "| 18 - 20 | Residue name | Residue name.                              | residue_name          |\n",
    "| 21      |              |                                            | blank_2               |\n",
    "| 22      | Character    | Chain identifier.                          | chain_id              |\n",
    "| 23 - 26 | Integer      | Residue sequence number.                   | residue_number        |\n",
    "| 27      | AChar        | Code for insertion of residues.            | insertion             |\n",
    "| 28 - 30 |              |                                            | blank_3               |\n",
    "| 31 - 38 | Real(8.3)    | Orthogonal coordinates for X in Angstroms. | x_coord               |\n",
    "| 39 - 46 | Real(8.3)    | Orthogonal coordinates for Y in Angstroms. | y_coord               |\n",
    "| 47 - 54 | Real(8.3)    | Orthogonal coordinates for Z in Angstroms. | z_coord               |\n",
    "| 55 - 60 | Real(6.2)    | Occupancy.                                 | occupancy             |\n",
    "| 61 - 66 | Real(6.2)    | Temperature factor (Default = 0.0).        | bfactor               |\n",
    "| 67-72   |              |                                            | blank_4               |\n",
    "| 73 - 76 | LString(4)   | Segment identifier, left-justified.        | segment_id            |\n",
    "| 77 - 78 | LString(2)   | Element symbol, right-justified.           | element_symbol        |\n",
    "| 79 - 80 | LString(2)   | Charge on the atom.                        | charge                |"
   ]
  },
  {
   "cell_type": "markdown",
   "metadata": {},
   "source": [
    "Below is an example of how this would look like in an actual PDB file:"
   ]
  },
  {
   "cell_type": "markdown",
   "metadata": {},
   "source": [
    "    Example: \n",
    "             1         2         3         4         5         6         7         8\n",
    "    12345678901234567890123456789012345678901234567890123456789012345678901234567890\n",
    "    ATOM    145  N   VAL A  25      32.433  16.336  57.540  1.00 11.92      A1   N\n",
    "    ATOM    146  CA  VAL A  25      31.132  16.439  58.160  1.00 11.85      A1   C\n",
    "    ATOM    147  C   VAL A  25      30.447  15.105  58.363  1.00 12.34      A1   C\n",
    "    ATOM    148  O   VAL A  25      29.520  15.059  59.174  1.00 15.65      A1   O\n",
    "    ATOM    149  CB AVAL A  25      30.385  17.437  57.230  0.28 13.88      A1   C\n",
    "    ATOM    150  CB BVAL A  25      30.166  17.399  57.373  0.72 15.41      A1   C\n",
    "    ATOM    151  CG1AVAL A  25      28.870  17.401  57.336  0.28 12.64      A1   C\n",
    "    ATOM    152  CG1BVAL A  25      30.805  18.788  57.449  0.72 15.11      A1   C\n",
    "    ATOM    153  CG2AVAL A  25      30.835  18.826  57.661  0.28 13.58      A1   C\n",
    "    ATOM    154  CG2BVAL A  25      29.909  16.996  55.922  0.72 13.25      A1   C"
   ]
  },
  {
   "cell_type": "markdown",
   "metadata": {},
   "source": [
    "After loading a PDB file from rcsb.org or our local drive, the [`PandasPdb.df`](../api/biopandas.pdb/#pandaspdbdf) attribute should contain the following 4 DataFrame objects:"
   ]
  },
  {
   "cell_type": "code",
   "execution_count": null,
   "metadata": {
    "ExecuteTime": {
     "end_time": "2024-05-05T09:31:45.554664900Z",
     "start_time": "2024-05-05T09:31:45.358380100Z"
    }
   },
   "outputs": [],
   "source": [
    "from biopandas.pdb import PandasPdb\n",
    "ppdb = PandasPdb()\n",
    "ppdb.read_pdb('./data/3eiy.pdb')\n",
    "ppdb.df.keys()"
   ]
  },
  {
   "cell_type": "markdown",
   "metadata": {},
   "source": [
    "[File link: [3eiy.pdb](https://raw.githubusercontent.com/rasbt/biopandas/main/docs/tutorials/data/3eiy.pdb)]"
   ]
  },
  {
   "cell_type": "markdown",
   "metadata": {},
   "source": [
    "- 'ATOM': contains the entries from the ATOM coordinate section\n",
    "- 'HETATM':  ... entries from the \"HETATM\" coordinate section    \n",
    "- 'ANISOU': ... entries from the \"ANISOU\" coordinate section \n",
    "- 'OTHERS': Everything else that is *not* a 'ATOM', 'HETATM', or 'ANISOU' entry"
   ]
  },
  {
   "cell_type": "markdown",
   "metadata": {},
   "source": [
    "![](./img/df_dict.jpg)"
   ]
  },
  {
   "cell_type": "markdown",
   "metadata": {},
   "source": [
    "The columns of the 'HETATM' DataFrame are indentical to the 'ATOM' DataFrame that we've seen earlier:"
   ]
  },
  {
   "cell_type": "code",
   "execution_count": null,
   "metadata": {
    "ExecuteTime": {
     "start_time": "2024-05-05T09:31:45.359397400Z"
    }
   },
   "outputs": [],
   "source": [
    "ppdb.df['HETATM'].head(2)"
   ]
  },
  {
   "cell_type": "markdown",
   "metadata": {},
   "source": [
    "<br>"
   ]
  },
  {
   "cell_type": "markdown",
   "metadata": {},
   "source": [
    "Note that \"ANISOU\" entries are handled a bit differently as specified at [http://deposit.rcsb.org/adit/docs/pdb_atom_format.html#ATOM](http://deposit.rcsb.org/adit/docs/pdb_atom_format.html#ATOM)."
   ]
  },
  {
   "cell_type": "code",
   "execution_count": null,
   "metadata": {
    "ExecuteTime": {
     "start_time": "2024-05-05T09:31:45.361582700Z"
    }
   },
   "outputs": [],
   "source": [
    "ppdb.df['ANISOU'].head(2)"
   ]
  },
  {
   "cell_type": "markdown",
   "metadata": {},
   "source": [
    "Not every PDB file contains ANISOU entries (similarly, some PDB files may only contain HETATM or ATOM entries). If records are basent, the DataFrame will be empty as show above."
   ]
  },
  {
   "cell_type": "code",
   "execution_count": null,
   "metadata": {
    "ExecuteTime": {
     "start_time": "2024-05-05T09:31:45.363098600Z"
    }
   },
   "outputs": [],
   "source": [
    "ppdb.df['ANISOU'].empty"
   ]
  },
  {
   "cell_type": "markdown",
   "metadata": {},
   "source": [
    "Since the DataFrames are fairly wide, let's us take a look at the columns by accessing the DataFrame's `column` attribute:"
   ]
  },
  {
   "cell_type": "code",
   "execution_count": null,
   "metadata": {
    "ExecuteTime": {
     "start_time": "2024-05-05T09:31:45.364310200Z"
    }
   },
   "outputs": [],
   "source": [
    "ppdb.df['ANISOU'].columns"
   ]
  },
  {
   "cell_type": "markdown",
   "metadata": {},
   "source": [
    "ANISOU records are very similar to ATOM/HETATM records. In fact, the columns 7 - 27 and 73 - 80 are identical to their corresponding ATOM/HETATM records, which means that the 'ANISOU' DataFrame doesn't have the following entries:"
   ]
  },
  {
   "cell_type": "code",
   "execution_count": null,
   "metadata": {
    "ExecuteTime": {
     "start_time": "2024-05-05T09:31:45.366442400Z"
    }
   },
   "outputs": [],
   "source": [
    "set(ppdb.df['ATOM'].columns).difference(set(ppdb.df['ANISOU'].columns))"
   ]
  },
  {
   "cell_type": "markdown",
   "metadata": {},
   "source": [
    "Instead, the \"ANISOU\" DataFrame contains the anisotropic temperature factors \"U(-,-)\" -- note that these are scaled by a factor of $10^4$ ($\\text{Angstroms}^2$) by convention."
   ]
  },
  {
   "cell_type": "code",
   "execution_count": null,
   "metadata": {
    "ExecuteTime": {
     "start_time": "2024-05-05T09:31:45.368452100Z"
    }
   },
   "outputs": [],
   "source": [
    "set(ppdb.df['ANISOU'].columns).difference(set(ppdb.df['ATOM'].columns))"
   ]
  },
  {
   "cell_type": "markdown",
   "metadata": {},
   "source": [
    "<br>\n",
    "<br>"
   ]
  },
  {
   "cell_type": "markdown",
   "metadata": {},
   "source": [
    "Ah, another interesting thing to mention is that the columns already come with the types you'd expect (where `object` essentially \"means\" `str` here):"
   ]
  },
  {
   "cell_type": "code",
   "execution_count": null,
   "metadata": {
    "ExecuteTime": {
     "start_time": "2024-05-05T09:31:45.369452300Z"
    }
   },
   "outputs": [],
   "source": [
    "ppdb.df['ATOM'].dtypes"
   ]
  },
  {
   "cell_type": "markdown",
   "metadata": {},
   "source": [
    "<br>"
   ]
  },
  {
   "cell_type": "markdown",
   "metadata": {},
   "source": [
    "Typically, all good things come in threes, however, there is a 4th DataFrame, an'OTHER' DataFrame, which contains everything that wasn't parsed as 'ATOM', 'HETATM', or 'ANISOU' coordinate section:"
   ]
  },
  {
   "cell_type": "code",
   "execution_count": null,
   "metadata": {
    "ExecuteTime": {
     "start_time": "2024-05-05T09:31:45.371453500Z"
    }
   },
   "outputs": [],
   "source": [
    "ppdb.df['OTHERS'].head(5)"
   ]
  },
  {
   "cell_type": "markdown",
   "metadata": {},
   "source": [
    "Although these 'OTHER' entries are typically less useful for structure-related computations, you may still want to take a look at them to get a short summary of the PDB structure and learn about it's potential quirks and gotchas (typically listed in the REMARKs section). Lastly, the \"OTHERS\" DataFrame comes in handy if we want to reconstruct the structure as PDB file as we will see later (note the `line_idx` columns in all of the DataFrames)."
   ]
  },
  {
   "cell_type": "markdown",
   "metadata": {},
   "source": [
    "## Working with PDB DataFrames"
   ]
  },
  {
   "cell_type": "markdown",
   "metadata": {},
   "source": [
    "In the previous sections, we've seen how to load PDB structures into DataFrames, and how to access them. Now, let's talk about manipulating PDB files in DataFrames."
   ]
  },
  {
   "cell_type": "code",
   "execution_count": null,
   "metadata": {
    "ExecuteTime": {
     "start_time": "2024-05-05T09:31:45.372956400Z"
    }
   },
   "outputs": [],
   "source": [
    "from biopandas.pdb import PandasPdb\n",
    "ppdb = PandasPdb()\n",
    "ppdb.read_pdb('./data/3eiy.pdb.gz')\n",
    "ppdb.df['ATOM'].head()"
   ]
  },
  {
   "cell_type": "markdown",
   "metadata": {},
   "source": [
    "[File link: [3eiy.pdb.gz](https://github.com/rasbt/biopandas/blob/main/docs/tutorials/data/3eiy.pdb.gz?raw=true)]"
   ]
  },
  {
   "cell_type": "markdown",
   "metadata": {},
   "source": [
    "Okay, there's actually not *that* much to say ...   \n",
    "Once we have our PDB file in the DataFrame format, we have the whole convenience of [pandas](http://pandas.pydata.org) right there at our fingertips."
   ]
  },
  {
   "cell_type": "markdown",
   "metadata": {},
   "source": [
    "For example, let's get all Proline residues:"
   ]
  },
  {
   "cell_type": "code",
   "execution_count": null,
   "metadata": {
    "ExecuteTime": {
     "start_time": "2024-05-05T09:31:45.374972100Z"
    }
   },
   "outputs": [],
   "source": [
    "ppdb.df['ATOM'][ppdb.df['ATOM']['residue_name'] == 'PRO'].head()"
   ]
  },
  {
   "cell_type": "markdown",
   "metadata": {},
   "source": [
    "Or main chain atoms:"
   ]
  },
  {
   "cell_type": "code",
   "execution_count": null,
   "metadata": {
    "ExecuteTime": {
     "start_time": "2024-05-05T09:31:45.377972700Z"
    }
   },
   "outputs": [],
   "source": [
    "ppdb.df['ATOM'][ppdb.df['ATOM']['atom_name'] == 'C'].head()"
   ]
  },
  {
   "cell_type": "markdown",
   "metadata": {},
   "source": [
    "It's also easy to strip our coordinate section from hydrogen atoms if there are any ..."
   ]
  },
  {
   "cell_type": "code",
   "execution_count": null,
   "metadata": {
    "ExecuteTime": {
     "start_time": "2024-05-05T09:31:45.380973100Z"
    }
   },
   "outputs": [],
   "source": [
    "ppdb.df['ATOM'][ppdb.df['ATOM']['element_symbol'] != 'H'].head()"
   ]
  },
  {
   "cell_type": "markdown",
   "metadata": {},
   "source": [
    "Or, let's compute the average temperature factor of our protein main chain:"
   ]
  },
  {
   "cell_type": "code",
   "execution_count": null,
   "metadata": {
    "ExecuteTime": {
     "start_time": "2024-05-05T09:31:45.383004Z"
    }
   },
   "outputs": [],
   "source": [
    "mainchain = ppdb.df['ATOM'][(ppdb.df['ATOM']['atom_name'] == 'C') | \n",
    "                            (ppdb.df['ATOM']['atom_name'] == 'O') | \n",
    "                            (ppdb.df['ATOM']['atom_name'] == 'N') | \n",
    "                            (ppdb.df['ATOM']['atom_name'] == 'CA')]\n",
    "\n",
    "bfact_mc_avg = mainchain['b_factor'].mean()\n",
    "print('Average B-Factor [Main Chain]: %.2f' % bfact_mc_avg)"
   ]
  },
  {
   "cell_type": "markdown",
   "metadata": {},
   "source": [
    "**Loading PDB files from a Python List**"
   ]
  },
  {
   "cell_type": "markdown",
   "metadata": {},
   "source": [
    "Since biopandas 0.3.0, PDB files can also be loaded into a PandasPdb object from a Python list:"
   ]
  },
  {
   "cell_type": "code",
   "execution_count": null,
   "metadata": {
    "ExecuteTime": {
     "start_time": "2024-05-05T09:31:45.385017900Z"
    }
   },
   "outputs": [],
   "source": [
    "with open('./data/3eiy.pdb', 'r') as f:\n",
    "    three_eiy = f.readlines()\n",
    "\n",
    "ppdb2 = PandasPdb()\n",
    "ppdb2.read_pdb_from_list(three_eiy)\n",
    "\n",
    "ppdb2.df['ATOM'].head()"
   ]
  },
  {
   "cell_type": "markdown",
   "metadata": {},
   "source": [
    "### Working with PDBs Containing Multiple Models\n",
    "\n",
    "(*New in version 0.4.0*)\n",
    "\n",
    "Some PDB files, particularly those containing NMR structures, provide an ensemble of models. There are various ways to extract these.\n",
    "\n",
    "In these examples we will work with [2JYF](https://www.rcsb.org/structure/2JYF): an RNA structure containing 10 models of the same underlying RNA structure.\n",
    "\n",
    "To start, we con obtain a DataFrame denoting the lines of the PDB files corresponding to each model."
   ]
  },
  {
   "cell_type": "code",
   "execution_count": null,
   "metadata": {
    "ExecuteTime": {
     "start_time": "2024-05-05T09:31:45.387016Z"
    }
   },
   "outputs": [],
   "source": [
    "from biopandas.pdb import PandasPdb\n",
    "\n",
    "ppdb = PandasPdb().read_pdb('./data/2jyf.pdb')\n",
    "ppdb.get_model_start_end()"
   ]
  },
  {
   "cell_type": "markdown",
   "metadata": {},
   "source": [
    "**Assigning model IDs to the PDB DataFrames**\n",
    "\n",
    "For ease of use, the `label_models()` method adds an additional column, `\"model_id\"` to the dataframes contained within the `PandasPdb` object."
   ]
  },
  {
   "cell_type": "code",
   "execution_count": null,
   "metadata": {
    "ExecuteTime": {
     "start_time": "2024-05-05T09:31:45.389016400Z"
    }
   },
   "outputs": [],
   "source": [
    "from biopandas.pdb import PandasPdb\n",
    "ppdb = PandasPdb().read_pdb('./data/2jyf.pdb')\n",
    "\n",
    "ppdb.label_models()\n",
    "ppdb.df[\"ATOM\"][\"model_id\"]"
   ]
  },
  {
   "cell_type": "markdown",
   "metadata": {},
   "source": [
    "**Subsetting `PandasPdb` objects to a given model**\n",
    "\n",
    "We can obtain new `PandasPdb` objects containing only a given model using the `get_model()` method"
   ]
  },
  {
   "cell_type": "code",
   "execution_count": null,
   "metadata": {
    "ExecuteTime": {
     "start_time": "2024-05-05T09:31:45.391015700Z"
    }
   },
   "outputs": [],
   "source": [
    "from biopandas.pdb import PandasPdb\n",
    "ppdb = PandasPdb().read_pdb('./data/2jyf.pdb')\n",
    "\n",
    "model_4 = ppdb.get_model(model_index=4)\n",
    "model_4.df[\"ATOM\"]"
   ]
  },
  {
   "cell_type": "markdown",
   "metadata": {},
   "source": [
    "**Subsetting `PandasPdb` objects to a list of given models**\n",
    "\n",
    "We can obtain new `PandasPdb` objects containing only a given models using the `get_models()` method"
   ]
  },
  {
   "cell_type": "code",
   "execution_count": null,
   "metadata": {
    "ExecuteTime": {
     "start_time": "2024-05-05T09:31:45.393043Z"
    }
   },
   "outputs": [],
   "source": [
    "from biopandas.pdb import PandasPdb\n",
    "ppdb = PandasPdb().read_pdb('./data/2jyf.pdb')\n",
    "\n",
    "model_ensemble = ppdb.get_models(model_indices=[2, 4, 6, 8])\n",
    "model_ensemble.df[\"ATOM\"]"
   ]
  },
  {
   "cell_type": "markdown",
   "metadata": {},
   "source": [
    "## Plotting"
   ]
  },
  {
   "cell_type": "markdown",
   "metadata": {},
   "source": [
    "Since we are using pandas under the hood, which in turns uses matplotlib under the hood, we can produce quick summary plots of our PDB structures relatively conveniently:"
   ]
  },
  {
   "cell_type": "code",
   "execution_count": null,
   "metadata": {
    "ExecuteTime": {
     "start_time": "2024-05-05T09:31:45.394227300Z"
    }
   },
   "outputs": [],
   "source": [
    "from biopandas.pdb import PandasPdb\n",
    "ppdb = PandasPdb().read_pdb('./data/3eiy.pdb.gz')"
   ]
  },
  {
   "cell_type": "markdown",
   "metadata": {},
   "source": [
    "[File link: [3eiy.pdb.gz](https://github.com/rasbt/biopandas/blob/main/docs/tutorials/data/3eiy.pdb.gz?raw=true)]"
   ]
  },
  {
   "cell_type": "code",
   "execution_count": null,
   "metadata": {
    "ExecuteTime": {
     "start_time": "2024-05-05T09:31:45.395242Z"
    }
   },
   "outputs": [],
   "source": [
    "%matplotlib inline\n",
    "import matplotlib.pyplot as plt\n",
    "from matplotlib import style\n",
    "style.use('ggplot')"
   ]
  },
  {
   "cell_type": "code",
   "execution_count": null,
   "metadata": {
    "ExecuteTime": {
     "start_time": "2024-05-05T09:31:45.397248700Z"
    }
   },
   "outputs": [],
   "source": [
    "ppdb.df['ATOM']['b_factor'].plot(kind='hist')\n",
    "plt.title('Distribution of B-Factors')\n",
    "plt.xlabel('B-factor')\n",
    "plt.ylabel('count')\n",
    "plt.show()"
   ]
  },
  {
   "cell_type": "code",
   "execution_count": null,
   "metadata": {
    "ExecuteTime": {
     "start_time": "2024-05-05T09:31:45.398250300Z"
    }
   },
   "outputs": [],
   "source": [
    "ppdb.df['ATOM']['b_factor'].plot(kind='line')\n",
    "plt.title('B-Factors Along the Amino Acid Chain')\n",
    "plt.xlabel('Residue Number')\n",
    "plt.ylabel('B-factor in $A^2$')\n",
    "plt.show()"
   ]
  },
  {
   "cell_type": "code",
   "execution_count": null,
   "metadata": {
    "ExecuteTime": {
     "start_time": "2024-05-05T09:31:45.399248800Z"
    }
   },
   "outputs": [],
   "source": [
    "ppdb.df['ATOM']['element_symbol'].value_counts().plot(kind='bar')\n",
    "plt.title('Distribution of Atom Types')\n",
    "plt.xlabel('elements')\n",
    "plt.ylabel('count')\n",
    "plt.show()"
   ]
  },
  {
   "cell_type": "markdown",
   "metadata": {},
   "source": [
    "## Computing the Root Mean Square Deviation"
   ]
  },
  {
   "cell_type": "markdown",
   "metadata": {},
   "source": [
    "BioPandas also comes with certain convenience functions, for example, ..."
   ]
  },
  {
   "cell_type": "markdown",
   "metadata": {},
   "source": [
    "The Root-mean-square deviation (RMSD) is simply a measure of the average distance between atoms of 2 protein or ligand structures. This calculation of the Cartesian error follows the equation:\n",
    "\n",
    "$$\n",
    "RMSD(a, b) = \\sqrt{\\frac{1}{n} \\sum^{n}_{i=1} \\big((a_{ix})^2 + (a_{iy})^2 + (a_{iz})^2 \\big)}\n",
    "= \\sqrt{\\frac{1}{n} \\sum^{n}_{i=1} || a_i + b_i||_2^2}\n",
    "$$"
   ]
  },
  {
   "cell_type": "markdown",
   "metadata": {},
   "source": [
    "So, assuming that the we have the following 2 conformations of a ligand molecule\n",
    "\n",
    "![](./img/ligand_rmsd.png)\n",
    "\n",
    "we can compute the RMSD as follows:"
   ]
  },
  {
   "cell_type": "code",
   "execution_count": null,
   "metadata": {
    "ExecuteTime": {
     "start_time": "2024-05-05T09:31:45.400247900Z"
    }
   },
   "outputs": [],
   "source": [
    "from biopandas.pdb import PandasPdb\n",
    "\n",
    "l_1 = PandasPdb().read_pdb('./data/lig_conf_1.pdb')\n",
    "l_2 = PandasPdb().read_pdb('./data/lig_conf_2.pdb')\n",
    "r = PandasPdb.rmsd(l_1.df['HETATM'], l_2.df['HETATM'],\n",
    "                   s=None) # all atoms, including hydrogens\n",
    "print('RMSD: %.4f Angstrom' % r)"
   ]
  },
  {
   "cell_type": "code",
   "execution_count": null,
   "metadata": {
    "ExecuteTime": {
     "start_time": "2024-05-05T09:31:45.401248Z"
    }
   },
   "outputs": [],
   "source": [
    "l_1.df['HETATM']"
   ]
  },
  {
   "cell_type": "markdown",
   "metadata": {},
   "source": [
    "[File links: [lig_conf_1.pdb](https://raw.githubusercontent.com/rasbt/biopandas/master/docs/sources/tutorials/data/lig_conf_1.pdb), [lig_conf_2.pdb](https://raw.githubusercontent.com/rasbt/biopandas/master/docs/sources/tutorials/data/lig_conf_2.pdb)]"
   ]
  },
  {
   "cell_type": "code",
   "execution_count": null,
   "metadata": {
    "ExecuteTime": {
     "start_time": "2024-05-05T09:31:45.403257400Z"
    }
   },
   "outputs": [],
   "source": [
    "r = PandasPdb.rmsd(l_1.df['HETATM'], l_2.df['HETATM'], \n",
    "                   s='carbon') # carbon atoms only\n",
    "print('RMSD: %.4f Angstrom' % r)"
   ]
  },
  {
   "cell_type": "code",
   "execution_count": null,
   "metadata": {
    "ExecuteTime": {
     "start_time": "2024-05-05T09:31:45.404263200Z"
    }
   },
   "outputs": [],
   "source": [
    "r = PandasPdb.rmsd(l_1.df['HETATM'], l_2.df['HETATM'], \n",
    "                   s='heavy') # heavy atoms only\n",
    "print('RMSD: %.4f Angstrom' % r)"
   ]
  },
  {
   "cell_type": "markdown",
   "metadata": {},
   "source": [
    "Similarly, we can compute the RMSD between 2 related protein structures:\n",
    "\n",
    "![](./img/1t48_rmsd.png)"
   ]
  },
  {
   "cell_type": "markdown",
   "metadata": {},
   "source": [
    "The hydrogen-free RMSD:"
   ]
  },
  {
   "cell_type": "code",
   "execution_count": null,
   "metadata": {
    "ExecuteTime": {
     "start_time": "2024-05-05T09:31:45.405268700Z"
    }
   },
   "outputs": [],
   "source": [
    "p_1 = PandasPdb().read_pdb('./data/1t48_995.pdb')\n",
    "p_2 = PandasPdb().read_pdb('./data/1t49_995.pdb')\n",
    "r = PandasPdb.rmsd(p_1.df['ATOM'], p_2.df['ATOM'], s='heavy')\n",
    "print('RMSD: %.4f Angstrom' % r)"
   ]
  },
  {
   "cell_type": "markdown",
   "metadata": {},
   "source": [
    "Or the RMSD between the main chains only:"
   ]
  },
  {
   "cell_type": "code",
   "execution_count": null,
   "metadata": {
    "ExecuteTime": {
     "start_time": "2024-05-05T09:31:45.407294100Z"
    }
   },
   "outputs": [],
   "source": [
    "p_1 = PandasPdb().read_pdb('./data/1t48_995.pdb')\n",
    "p_2 = PandasPdb().read_pdb('./data/1t49_995.pdb')\n",
    "r = PandasPdb.rmsd(p_1.df['ATOM'], p_2.df['ATOM'], s='main chain')\n",
    "print('RMSD: %.4f Angstrom' % r)"
   ]
  },
  {
   "cell_type": "markdown",
   "metadata": {},
   "source": [
    "<br>"
   ]
  },
  {
   "cell_type": "markdown",
   "metadata": {},
   "source": [
    "## Filtering PDBs by Distance"
   ]
  },
  {
   "cell_type": "markdown",
   "metadata": {},
   "source": [
    "We can use the `distance` method to compute the distance between each atom (or a subset of atoms) in our data frame and a three-dimensional reference point. For example:"
   ]
  },
  {
   "cell_type": "code",
   "execution_count": null,
   "metadata": {
    "ExecuteTime": {
     "start_time": "2024-05-05T09:31:45.408301100Z"
    }
   },
   "outputs": [],
   "source": [
    "p_1 = PandasPdb().read_pdb('./data/3eiy.pdb')\n",
    "\n",
    "reference_point = (9.362, 41.410, 10.542)\n",
    "distances = p_1.distance(xyz=reference_point, records=('ATOM',))"
   ]
  },
  {
   "cell_type": "markdown",
   "metadata": {},
   "source": [
    "[File link: [3eiy.pdb](https://raw.githubusercontent.com/rasbt/biopandas/main/docs/tutorials/data/3eiy.pdb)]"
   ]
  },
  {
   "cell_type": "markdown",
   "metadata": {},
   "source": [
    "The distance method returns a Pandas Series object:"
   ]
  },
  {
   "cell_type": "code",
   "execution_count": null,
   "metadata": {
    "ExecuteTime": {
     "start_time": "2024-05-05T09:31:45.409301500Z"
    }
   },
   "outputs": [],
   "source": [
    "distances.head()"
   ]
  },
  {
   "cell_type": "markdown",
   "metadata": {},
   "source": [
    "And we can use this `Series` object, for instance, to select certain atoms in our DataFrame that fall within a desired distance threshold. For example, let's select all atoms that are within 7A of our reference point: "
   ]
  },
  {
   "cell_type": "code",
   "execution_count": null,
   "metadata": {
    "ExecuteTime": {
     "start_time": "2024-05-05T09:31:45.410301300Z"
    }
   },
   "outputs": [],
   "source": [
    "all_within_7A = p_1.df['ATOM'][distances < 7.0]\n",
    "all_within_7A.tail()"
   ]
  },
  {
   "cell_type": "markdown",
   "metadata": {},
   "source": [
    "Visualized in PyMOL, this subset (yellow surface) would look as follows:\n",
    "    \n",
    "![](./img/3eiy_7a.png)"
   ]
  },
  {
   "cell_type": "markdown",
   "metadata": {},
   "source": [
    "## Converting Amino Acid codes from 3- to 1-letter codes"
   ]
  },
  {
   "cell_type": "markdown",
   "metadata": {},
   "source": [
    "Residues in the `residue_name` field can be converted into 1-letter amino acid codes, which may be useful for further sequence analysis, for example, pair-wise or multiple sequence alignments:"
   ]
  },
  {
   "cell_type": "code",
   "execution_count": null,
   "metadata": {
    "ExecuteTime": {
     "start_time": "2024-05-05T09:31:45.412812900Z"
    }
   },
   "outputs": [],
   "source": [
    "from biopandas.pdb import PandasPdb\n",
    "ppdb = PandasPdb().fetch_pdb('5mtn')\n",
    "sequence = ppdb.amino3to1()\n",
    "sequence.tail()"
   ]
  },
  {
   "cell_type": "markdown",
   "metadata": {},
   "source": [
    "As shown above, the `amino3to1` method returns a `DataFrame` containing the `chain_id` and `residue_name` of the translated 1-letter amino acids. If you like to work with the sequence as a Python list of string characters, you could do the following:"
   ]
  },
  {
   "cell_type": "code",
   "execution_count": null,
   "metadata": {
    "ExecuteTime": {
     "start_time": "2024-05-05T09:31:45.414602700Z"
    }
   },
   "outputs": [],
   "source": [
    "sequence_list = list(sequence.loc[sequence['chain_id'] == 'A', 'residue_name'])\n",
    "sequence_list[-5:] # last 5 residues of chain A"
   ]
  },
  {
   "cell_type": "markdown",
   "metadata": {},
   "source": [
    "And if you prefer to work with the sequence as a string, you can use the `join` method: "
   ]
  },
  {
   "cell_type": "code",
   "execution_count": null,
   "metadata": {
    "ExecuteTime": {
     "start_time": "2024-05-05T09:31:45.416339100Z"
    }
   },
   "outputs": [],
   "source": [
    "''.join(sequence.loc[sequence['chain_id'] == 'A', 'residue_name'])"
   ]
  },
  {
   "cell_type": "markdown",
   "metadata": {},
   "source": [
    "To iterate over the sequences of multi-chain proteins, you can use the `unique` method as shown below:"
   ]
  },
  {
   "cell_type": "code",
   "execution_count": null,
   "metadata": {
    "ExecuteTime": {
     "start_time": "2024-05-05T09:31:45.417339500Z"
    }
   },
   "outputs": [],
   "source": [
    "for chain_id in sequence['chain_id'].unique():\n",
    "    print('\\nChain ID: %s' % chain_id)\n",
    "    print(''.join(sequence.loc[sequence['chain_id'] == chain_id, 'residue_name']))"
   ]
  },
  {
   "cell_type": "markdown",
   "metadata": {},
   "source": [
    "## Wrapping it up - Saving PDB structures"
   ]
  },
  {
   "cell_type": "markdown",
   "metadata": {},
   "source": [
    "Finally, let's talk about how to get the PDB structures out of the DataFrame format back into the beloved .pdb format."
   ]
  },
  {
   "cell_type": "markdown",
   "metadata": {},
   "source": [
    "Let's say we loaded a PDB structure, removed it from its hydrogens:"
   ]
  },
  {
   "cell_type": "code",
   "execution_count": null,
   "metadata": {
    "ExecuteTime": {
     "start_time": "2024-05-05T09:31:45.419340100Z"
    }
   },
   "outputs": [],
   "source": [
    "from biopandas.pdb import PandasPdb\n",
    "ppdb = PandasPdb().read_pdb('./data/3eiy.pdb.gz')\n",
    "ppdb.df['ATOM'] = ppdb.df['ATOM'][ppdb.df['ATOM']['element_symbol'] != 'H']"
   ]
  },
  {
   "cell_type": "markdown",
   "metadata": {},
   "source": [
    "[File link: [3eiy.pdb.gz](https://github.com/rasbt/biopandas/blob/main/docs/tutorials/data/3eiy.pdb.gz?raw=true)]"
   ]
  },
  {
   "cell_type": "markdown",
   "metadata": {},
   "source": [
    "We can save the file using the [`PandasPdb.to_pdb`](../api/biopandas.pdb#pandaspdbto_pdb) method:"
   ]
  },
  {
   "cell_type": "code",
   "execution_count": null,
   "metadata": {
    "ExecuteTime": {
     "start_time": "2024-05-05T09:31:45.421340Z"
    }
   },
   "outputs": [],
   "source": [
    "ppdb.to_pdb(path='./data/3eiy_stripped.pdb', \n",
    "            records=None, \n",
    "            gz=False, \n",
    "            append_newline=True)"
   ]
  },
  {
   "cell_type": "markdown",
   "metadata": {},
   "source": [
    "[File link: [3eiy_stripped.pdb](https://raw.githubusercontent.com/rasbt/biopandas/main/docs/tutorials/data/3eiy_stripped.pdb)]"
   ]
  },
  {
   "cell_type": "markdown",
   "metadata": {},
   "source": [
    "By default, all records (that is, 'ATOM', 'HETATM', 'OTHERS', 'ANISOU') are written if we set `records=None`. Alternatively, let's say we want to get rid of the 'ANISOU' entries and produce a compressed gzip archive of our PDB structure:"
   ]
  },
  {
   "cell_type": "code",
   "execution_count": null,
   "metadata": {
    "ExecuteTime": {
     "start_time": "2024-05-05T09:31:45.423355600Z"
    }
   },
   "outputs": [],
   "source": [
    "ppdb.to_pdb(path='./data/3eiy_stripped.pdb.gz', \n",
    "            records=['ATOM', 'HETATM', 'OTHERS'], \n",
    "            gz=True, \n",
    "            append_newline=True)"
   ]
  },
  {
   "cell_type": "markdown",
   "metadata": {},
   "source": [
    "[File link: [3eiy_stripped.pdb.gz](https://github.com/rasbt/biopandas/blob/main/docs/tutorials/data/3eiy_stripped.pdb.gz?raw=true)]"
   ]
  }
 ],
 "metadata": {
  "anaconda-cloud": {},
  "kernelspec": {
   "display_name": "Python 3 (ipykernel)",
   "language": "python",
   "name": "python3"
  },
  "language_info": {
   "codemirror_mode": {
    "name": "ipython",
    "version": 3
   },
   "file_extension": ".py",
   "mimetype": "text/x-python",
   "name": "python",
   "nbconvert_exporter": "python",
   "pygments_lexer": "ipython3",
   "version": "3.9.7"
  },
  "toc": {
   "base_numbering": 1,
   "nav_menu": {},
   "number_sections": true,
   "sideBar": true,
   "skip_h1_title": false,
   "title_cell": "Table of Contents",
   "title_sidebar": "Contents",
   "toc_cell": false,
   "toc_position": {},
   "toc_section_display": true,
   "toc_window_display": false
  }
 },
 "nbformat": 4,
 "nbformat_minor": 4
}
