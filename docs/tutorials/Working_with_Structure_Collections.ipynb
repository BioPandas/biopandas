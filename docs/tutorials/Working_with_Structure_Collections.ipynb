{
 "cells": [
  {
   "cell_type": "markdown",
   "id": "35cdc548a6cf5fb9",
   "metadata": {
    "collapsed": false
   },
   "source": [
    "BioPandas\n",
    "\n",
    "Author: Sebastian Raschka <mail@sebastianraschka.com>  \n",
    "License: BSD 3 clause  \n",
    "Project Website: http://rasbt.github.io/biopandas/  \n",
    "Code Repository: https://github.com/rasbt/biopandas  "
   ]
  },
  {
   "cell_type": "code",
   "execution_count": 1,
   "id": "ba0b97166f7dcd80",
   "metadata": {
    "collapsed": false,
    "ExecuteTime": {
     "end_time": "2024-05-06T11:36:24.805838200Z",
     "start_time": "2024-05-06T11:36:24.308142300Z"
    }
   },
   "outputs": [
    {
     "name": "stdout",
     "output_type": "stream",
     "text": [
      "Last updated: 2024-05-06\n",
      "\n",
      "pandas   : 2.2.1\n",
      "biopandas: 0.5.1.dev0\n"
     ]
    }
   ],
   "source": [
    "%load_ext watermark\n",
    "%watermark -d -u -p pandas,biopandas"
   ]
  },
  {
   "cell_type": "code",
   "execution_count": 2,
   "id": "3632a9aa417eef8e",
   "metadata": {
    "collapsed": false,
    "ExecuteTime": {
     "end_time": "2024-05-06T11:36:24.810439800Z",
     "start_time": "2024-05-06T11:36:24.809325700Z"
    }
   },
   "outputs": [],
   "source": [
    "import pandas as pd\n",
    "pd.set_option('display.width', 600)\n",
    "pd.set_option('display.max_columns', 8)"
   ]
  },
  {
   "cell_type": "markdown",
   "id": "821e94f58a7a3756",
   "metadata": {
    "collapsed": false
   },
   "source": [
    "# Working with Structure Collections"
   ]
  },
  {
   "cell_type": "markdown",
   "id": "edd4b3b844f4f7a",
   "metadata": {
    "collapsed": false
   },
   "source": [
    "## Loading files\n",
    "The `PandasPdbStack` class is a wrapper around the `PandasPdb` class that allows for loading and handling of multiple structures at once.\n",
    "The stack can currently handle PDB and mmCIF file formats. Structures from files, PDB and UniProt can be loaded with the same command, at the same time. "
   ]
  },
  {
   "cell_type": "markdown",
   "id": "56acdce075cc50ae",
   "metadata": {
    "collapsed": false
   },
   "source": [
    "### 1 -- Loading files from file or database"
   ]
  },
  {
   "cell_type": "code",
   "execution_count": 3,
   "id": "157f2fa2d285de2",
   "metadata": {
    "collapsed": false,
    "ExecuteTime": {
     "end_time": "2024-05-06T11:36:27.371301900Z",
     "start_time": "2024-05-06T11:36:24.813055900Z"
    }
   },
   "outputs": [
    {
     "data": {
      "text/plain": "dict_keys(['1l2y', '1ycr', 'P99999', '3eiy'])"
     },
     "execution_count": 3,
     "metadata": {},
     "output_type": "execute_result"
    }
   ],
   "source": [
    "from biopandas.stack import PandasPdbStack\n",
    "ppdb_stack = PandasPdbStack()\n",
    "ppdb_stack.add_pdbs(['1l2y', 'data/1ycr.pdb', 'P99999', 'data/3eiy.cif.gz'])\n",
    "\n",
    "# Check the content\n",
    "ppdb_stack.pdbs.keys()"
   ]
  },
  {
   "cell_type": "markdown",
   "id": "e1d7c7b48ce85594",
   "metadata": {
    "collapsed": false
   },
   "source": [
    "If needed, further structures can be added to the stack with the `add_pdbs` or `add_pdb` method."
   ]
  },
  {
   "cell_type": "code",
   "execution_count": 4,
   "id": "c60a66fe0cd35046",
   "metadata": {
    "collapsed": false,
    "ExecuteTime": {
     "end_time": "2024-05-06T11:36:27.400715200Z",
     "start_time": "2024-05-06T11:36:27.373106100Z"
    }
   },
   "outputs": [
    {
     "data": {
      "text/plain": "dict_keys(['1l2y', '1ycr', 'P99999', '3eiy', '1YCR'])"
     },
     "execution_count": 4,
     "metadata": {},
     "output_type": "execute_result"
    }
   ],
   "source": [
    "# By specifying a different key, a structure can also be added twice to the stack.\n",
    "ppdb_stack.add_pdb('data/1ycr.pdb', '1YCR')\n",
    "\n",
    "# Check the content\n",
    "ppdb_stack.pdbs.keys()"
   ]
  },
  {
   "cell_type": "markdown",
   "id": "42453aba5efd76f4",
   "metadata": {
    "collapsed": false
   },
   "source": [
    "### 2 -- Loading files from list of lines\n",
    "\n",
    "Loading stuctures from list of lines can be from a dictionary where the keys will be used to refer to the structure.\n",
    "Alternatively, it can also be done using the `add_pdb` method done one-by with specifying a key."
   ]
  },
  {
   "cell_type": "markdown",
   "id": "911c85127a6be043",
   "metadata": {
    "collapsed": false
   },
   "source": []
  },
  {
   "cell_type": "code",
   "execution_count": 5,
   "id": "9277b28c8841369e",
   "metadata": {
    "collapsed": false,
    "ExecuteTime": {
     "end_time": "2024-05-06T11:36:27.694216800Z",
     "start_time": "2024-05-06T11:36:27.397556300Z"
    }
   },
   "outputs": [
    {
     "name": "stderr",
     "output_type": "stream",
     "text": [
      "D:\\work\\huji\\biopandas\\biopandas\\pdb\\pandas_pdb.py:545: UserWarning: No ATOM/HETATM entries have been loaded. Is the input file/text in the pdb format?\n",
      "  warnings.warn(\n",
      "D:\\work\\huji\\biopandas\\biopandas\\pdb\\pandas_pdb.py:545: UserWarning: No ATOM/HETATM entries have been loaded. Is the input file/text in the pdb format?\n",
      "  warnings.warn(\n",
      "D:\\work\\huji\\biopandas\\biopandas\\pdb\\pandas_pdb.py:545: UserWarning: No ATOM/HETATM entries have been loaded. Is the input file/text in the pdb format?\n",
      "  warnings.warn(\n"
     ]
    },
    {
     "data": {
      "text/plain": "dict_keys(['3EIY', '1YCR', '2D7T'])"
     },
     "execution_count": 5,
     "metadata": {},
     "output_type": "execute_result"
    }
   ],
   "source": [
    "from biopandas.stack import PandasPdbStack\n",
    "ppdb_stack = PandasPdbStack()\n",
    "\n",
    "with open('./data/3eiy.pdb', 'r') as f:\n",
    "    three_eiy = f.read()\n",
    "\n",
    "with open('./data/1ycr.pdb', 'r') as f:\n",
    "    one_ycr = f.read()\n",
    "    \n",
    "with open('./data/2d7t.pdb', 'r') as f:\n",
    "    two_d7t = f.read()\n",
    "\n",
    "lines_input = {'3EIY': three_eiy, '1YCR': one_ycr}    \n",
    "ppdb_stack.add_pdbs(lines_input)\n",
    "\n",
    "ppdb_stack.add_pdb(two_d7t, '2D7T')\n",
    "\n",
    "# Check the content\n",
    "ppdb_stack.pdbs.keys()"
   ]
  },
  {
   "cell_type": "markdown",
   "id": "1dca101d4390d6e1",
   "metadata": {
    "collapsed": false
   },
   "source": [
    "## Applying functions to all members of the collection\n",
    "\n",
    "Two apply methods are available to apply a function to all members of the collection. The function can do manipulation on the members (`apply_filter`) or calculation on the members (`apply_calculation`). apply_filter always returns a new PandasPdbStack object, while apply_calculation returns a dictionary with the results for each structure. "
   ]
  },
  {
   "cell_type": "markdown",
   "id": "97e7cb27a448cd7f",
   "metadata": {
    "collapsed": false
   },
   "source": [
    "### 1 -- apply_filter\n",
    "\n",
    "Mandatory arguments for functions to be applied with this are the key (name of the structure, as string) and the PandasPdb object. Optional arguments can be passed as a dictionary.\n"
   ]
  },
  {
   "cell_type": "code",
   "execution_count": 6,
   "id": "ad373480104f8429",
   "metadata": {
    "collapsed": false,
    "ExecuteTime": {
     "end_time": "2024-05-06T11:36:30.294380700Z",
     "start_time": "2024-05-06T11:36:27.696668800Z"
    }
   },
   "outputs": [
    {
     "data": {
      "text/plain": "dict_keys(['1l2y', '1ycr', 'P99999', '3eiy'])"
     },
     "execution_count": 6,
     "metadata": {},
     "output_type": "execute_result"
    }
   ],
   "source": [
    "from biopandas.stack import PandasPdbStack\n",
    "ppdb_stack = PandasPdbStack()\n",
    "ppdb_stack.add_pdbs(['1l2y', 'data/1ycr.pdb', 'P99999', 'data/3eiy.cif.gz'])\n",
    "\n",
    "def filter_by_chain(key, pdb, chain):\n",
    "    # Example function for applying filtering\n",
    "    pdb.df['ATOM'] = pdb.df['ATOM'].query('chain_id==@chain')\n",
    "    return pdb\n",
    "\n",
    "\n",
    "ppdb_stack_filtered = ppdb_stack.apply_filter(filter_by_chain, chain='H')\n",
    "ppdb_stack_filtered.pdbs.keys()"
   ]
  },
  {
   "cell_type": "markdown",
   "id": "a46f2e7b2a32b178",
   "metadata": {
    "collapsed": false
   },
   "source": [
    "If a filtering would return an empty structure, the keep_nulls argument can be set to True to keep the structure in the collection or False to remove it. By default, keep_nulls is set to True."
   ]
  },
  {
   "cell_type": "code",
   "execution_count": 7,
   "id": "135532f3bd5dda6b",
   "metadata": {
    "collapsed": false,
    "ExecuteTime": {
     "end_time": "2024-05-06T11:36:30.356094200Z",
     "start_time": "2024-05-06T11:36:30.296721800Z"
    }
   },
   "outputs": [
    {
     "data": {
      "text/plain": "dict_keys(['1ycr'])"
     },
     "execution_count": 7,
     "metadata": {},
     "output_type": "execute_result"
    }
   ],
   "source": [
    "ppdb_stack_filtered_no_null = ppdb_stack.apply_filter(filter_by_chain, chain='B', keep_null=False)\n",
    "ppdb_stack_filtered_no_null.pdbs.keys()"
   ]
  },
  {
   "cell_type": "markdown",
   "id": "879a0acf4cdafe6f",
   "metadata": {
    "collapsed": false
   },
   "source": [
    "In case, different structures are filtered for different attributes, a dictionary defining the attributes can be passed to the apply_filter method."
   ]
  },
  {
   "cell_type": "code",
   "execution_count": 8,
   "id": "bbde2fb47544d649",
   "metadata": {
    "collapsed": false,
    "ExecuteTime": {
     "end_time": "2024-05-06T11:36:33.716048600Z",
     "start_time": "2024-05-06T11:36:30.330387600Z"
    }
   },
   "outputs": [
    {
     "data": {
      "text/plain": "dict_keys(['1ycr', '3eiy'])"
     },
     "execution_count": 8,
     "metadata": {},
     "output_type": "execute_result"
    }
   ],
   "source": [
    "from biopandas.stack import PandasPdbStack\n",
    "ppdb_stack = PandasPdbStack()\n",
    "ppdb_stack.add_pdbs(['1l2y', 'data/1ycr.pdb', 'P99999', 'data/3eiy.cif.gz'])\n",
    "\n",
    "def filter_by_chains(key, pdb, chains):\n",
    "    # Example function for applying filtering\n",
    "    chain = chains[key]\n",
    "    pdb.df['ATOM'] = pdb.df['ATOM'].query('chain_id==@chain')\n",
    "    return pdb\n",
    "\n",
    "args = {'chains': {'1ycr': 'A', '1l2y': 'H', '3eiy': 'A', 'P99999': 'B'}}\n",
    "filtered_stack = ppdb_stack.apply_filter(filter_by_chains, keep_null=False, **args)\n",
    "\n",
    "# Check content\n",
    "filtered_stack.pdbs.keys()"
   ]
  },
  {
   "cell_type": "markdown",
   "id": "34cab0ebc1127c83",
   "metadata": {
    "collapsed": false
   },
   "source": [
    "### 2 -- apply_calculation\n",
    "\n",
    "The `apply_calculation` method is used to apply a function that calculates an output(s) for each structure in the collection."
   ]
  },
  {
   "cell_type": "code",
   "execution_count": 9,
   "id": "73275e7765f9a4a0",
   "metadata": {
    "collapsed": false,
    "ExecuteTime": {
     "end_time": "2024-05-06T11:36:36.535349400Z",
     "start_time": "2024-05-06T11:36:33.718057100Z"
    }
   },
   "outputs": [
    {
     "data": {
      "text/plain": "{'1l2y': {'A': 760},\n '1ycr': {'A': 85, 'B': 13},\n 'P99999': {'A': 105},\n '3eiy': {'A': 174}}"
     },
     "execution_count": 9,
     "metadata": {},
     "output_type": "execute_result"
    }
   ],
   "source": [
    "from biopandas.stack import PandasPdbStack\n",
    "ppdb_stack = PandasPdbStack()\n",
    "ppdb_stack.add_pdbs(['1l2y', 'data/1ycr.pdb', 'P99999', 'data/3eiy.cif.gz'])\n",
    "\n",
    "def calculate_chain_lengths(key, pdb):\n",
    "    # Assuming `pdb` is a PandasPdb object\n",
    "    lengths = {}\n",
    "    for ch in pdb.df['ATOM']['chain_id'].unique():\n",
    "      ch_len = len(pdb.df['ATOM'].query('chain_id==@ch and atom_name==\"CA\"'))\n",
    "      lengths[ch] = ch_len\n",
    "    return lengths\n",
    "\n",
    "chain_lengths = ppdb_stack.apply_calculation(calculate_chain_lengths)\n",
    "chain_lengths"
   ]
  },
  {
   "cell_type": "markdown",
   "source": [
    "## Saving files\n",
    "\n",
    "Using stack, it is also possible to write out the structure files in PDB format into an output directory. The directory will be created if does not exist.\n"
   ],
   "metadata": {
    "collapsed": false
   },
   "id": "6310b92e81407350"
  },
  {
   "cell_type": "code",
   "outputs": [
    {
     "data": {
      "text/plain": "['data/stack_output\\\\1l2y.pdb',\n 'data/stack_output\\\\1ycr.pdb',\n 'data/stack_output\\\\3eiy.pdb',\n 'data/stack_output\\\\P99999.pdb']"
     },
     "execution_count": 10,
     "metadata": {},
     "output_type": "execute_result"
    }
   ],
   "source": [
    "from biopandas.stack import PandasPdbStack\n",
    "import glob\n",
    "\n",
    "ppdb_stack = PandasPdbStack()\n",
    "ppdb_stack.add_pdbs(['1l2y', 'data/1ycr.pdb', 'P99999', 'data/3eiy.cif.gz'])\n",
    "\n",
    "ppdb_stack.write_entries('data/stack_output')\n",
    "\n",
    "# Check the presence of the output files\n",
    "glob.glob('data/stack_output/*')"
   ],
   "metadata": {
    "collapsed": false,
    "ExecuteTime": {
     "end_time": "2024-05-06T11:36:39.448079100Z",
     "start_time": "2024-05-06T11:36:36.537748200Z"
    }
   },
   "id": "9f4a0bfc1181bd5",
   "execution_count": 10
  }
 ],
 "metadata": {
  "kernelspec": {
   "display_name": "Python 3 (ipykernel)",
   "language": "python",
   "name": "python3"
  },
  "language_info": {
   "codemirror_mode": {
    "name": "ipython",
    "version": 3
   },
   "file_extension": ".py",
   "mimetype": "text/x-python",
   "name": "python",
   "nbconvert_exporter": "python",
   "pygments_lexer": "ipython3",
   "version": "3.11.9"
  }
 },
 "nbformat": 4,
 "nbformat_minor": 5
}
