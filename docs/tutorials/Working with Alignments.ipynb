{
 "cells": [
  {
   "cell_type": "markdown",
   "id": "d3182990820927a4",
   "metadata": {
    "collapsed": false,
    "jupyter": {
     "outputs_hidden": false
    }
   },
   "source": [
    "BioPandas\n",
    "\n",
    "Author: Sebastian Raschka <mail@sebastianraschka.com>  \n",
    "License: BSD 3 clause  \n",
    "Project Website: http://rasbt.github.io/biopandas/  \n",
    "Code Repository: https://github.com/rasbt/biopandas "
   ]
  },
  {
   "cell_type": "code",
   "execution_count": 1,
   "id": "5da2e74f4ec0b903",
   "metadata": {
    "ExecuteTime": {
     "end_time": "2024-05-06T11:36:18.868121600Z",
     "start_time": "2024-05-06T11:36:18.318838Z"
    },
    "collapsed": false,
    "jupyter": {
     "outputs_hidden": false
    }
   },
   "outputs": [
    {
     "name": "stdout",
     "output_type": "stream",
     "text": [
      "Last updated: 2024-05-06\n",
      "\n",
      "pandas   : 2.2.1\n",
      "biopandas: 0.5.1.dev0\n"
     ]
    }
   ],
   "source": [
    "%load_ext watermark\n",
    "%watermark -d -u -p pandas,biopandas"
   ]
  },
  {
   "cell_type": "code",
   "execution_count": 2,
   "id": "918f8a47080eb337",
   "metadata": {
    "ExecuteTime": {
     "end_time": "2024-05-06T11:36:18.958096600Z",
     "start_time": "2024-05-06T11:36:18.867119200Z"
    },
    "collapsed": false,
    "jupyter": {
     "outputs_hidden": false
    }
   },
   "outputs": [],
   "source": [
    "# auto-reload biopandas\n",
    "%load_ext autoreload\n",
    "%autoreload 2"
   ]
  },
  {
   "cell_type": "code",
   "execution_count": 3,
   "id": "dfbcf31a7f0ab16",
   "metadata": {
    "ExecuteTime": {
     "end_time": "2024-05-06T11:36:19.039725900Z",
     "start_time": "2024-05-06T11:36:18.959092100Z"
    },
    "collapsed": false,
    "jupyter": {
     "outputs_hidden": false
    }
   },
   "outputs": [],
   "source": [
    "import pandas as pd\n",
    "pd.set_option('display.width', 600)\n",
    "pd.set_option('display.max_columns', 8)"
   ]
  },
  {
   "cell_type": "markdown",
   "id": "1ca484fbfbd44116",
   "metadata": {
    "collapsed": false,
    "jupyter": {
     "outputs_hidden": false
    }
   },
   "source": [
    "# Align class\n",
    "\n",
    "The Align class is an extandable class with a collection of functions frequently used for structural alignment.\n",
    "\n",
    "\n",
    "### Apply rotation and translation to a set of coordinates\n",
    "A set of coordinates can be transformed by a rotation matrix and a translation vector. The `transform` function takes a set of coordinates, a rotation matrix, and a translation vector as input and returns the transformed coordinates."
   ]
  },
  {
   "cell_type": "code",
   "execution_count": 4,
   "id": "8206e95e069e2c8",
   "metadata": {
    "ExecuteTime": {
     "end_time": "2024-05-06T11:36:19.148186800Z",
     "start_time": "2024-05-06T11:36:19.041235500Z"
    },
    "collapsed": false,
    "jupyter": {
     "outputs_hidden": false
    }
   },
   "outputs": [
    {
     "data": {
      "text/plain": [
       "array([[ True,  True,  True],\n",
       "       [ True,  True,  True],\n",
       "       [ True,  True,  True]])"
      ]
     },
     "execution_count": 4,
     "metadata": {},
     "output_type": "execute_result"
    }
   ],
   "source": [
    "from biopandas.align import Align\n",
    "import numpy as np\n",
    "\n",
    "align = Align()\n",
    "coords = np.array([[1, 2, 3], [4, 5, 6], [7, 8, 9]])\n",
    "matrix = np.array([[1, 0, 0], [0, 1, 0], [0, 0, 1]])\n",
    "translation = np.array([3, 2, 1])\n",
    "\n",
    "transformed_coords = align.transform(coords, matrix, translation)\n",
    "target_coords = np.array([[4, 4, 4], [7, 7, 7], [10, 10, 10]])\n",
    "\n",
    "transformed_coords == target_coords"
   ]
  },
  {
   "cell_type": "markdown",
   "id": "90630108c4a664c6",
   "metadata": {
    "collapsed": false,
    "jupyter": {
     "outputs_hidden": false
    }
   },
   "source": [
    "## TMAlign subclass\n",
    "\n",
    "TMalign (or its newest version, USalign, which is installed with this package) can be used to superimpose two structures or a set of structures onto a target structures."
   ]
  },
  {
   "cell_type": "markdown",
   "id": "96d2f19e3eca70f7",
   "metadata": {
    "collapsed": false,
    "jupyter": {
     "outputs_hidden": false
    }
   },
   "source": [
    "### Align two or more structures loaded into biopandas onto a specified target structure\n",
    "\n",
    "The `tmalign_to` structure aligns a structure or structures to a target structure.\n",
    "\n",
    "In the simplest case, two structure objects are aligned. The chains of the target and mobile structure(s) needs to be specified. The function returns the transformed structure and the TM-score."
   ]
  },
  {
   "cell_type": "code",
   "execution_count": 5,
   "id": "81c8150c7de501",
   "metadata": {
    "ExecuteTime": {
     "end_time": "2024-05-06T11:36:20.128951100Z",
     "start_time": "2024-05-06T11:36:19.145183500Z"
    },
    "collapsed": false,
    "jupyter": {
     "outputs_hidden": false
    }
   },
   "outputs": [
    {
     "ename": "AttributeError",
     "evalue": "'str' object has no attribute 'name'",
     "output_type": "error",
     "traceback": [
      "\u001b[1;31m---------------------------------------------------------------------------\u001b[0m",
      "\u001b[1;31mAttributeError\u001b[0m                            Traceback (most recent call last)",
      "Cell \u001b[1;32mIn[5], line 13\u001b[0m\n\u001b[0;32m     10\u001b[0m ppdb_mobile \u001b[38;5;241m=\u001b[39m PandasPdb()\n\u001b[0;32m     11\u001b[0m ppdb_mobile\u001b[38;5;241m.\u001b[39mread_pdb(\u001b[38;5;124m'\u001b[39m\u001b[38;5;124mdata/2d7t.pdb\u001b[39m\u001b[38;5;124m'\u001b[39m)\n\u001b[1;32m---> 13\u001b[0m transformed_structure, tm_score \u001b[38;5;241m=\u001b[39m tmalign\u001b[38;5;241m.\u001b[39mtmalign_to(ppdb, ppdb_mobile, \u001b[38;5;124m'\u001b[39m\u001b[38;5;124mA\u001b[39m\u001b[38;5;124m'\u001b[39m, \u001b[38;5;124m'\u001b[39m\u001b[38;5;124mH\u001b[39m\u001b[38;5;124m'\u001b[39m)\n\u001b[0;32m     15\u001b[0m \u001b[38;5;28mprint\u001b[39m(\u001b[38;5;124m'\u001b[39m\u001b[38;5;124mTM-scores:\u001b[39m\u001b[38;5;124m'\u001b[39m, tm_score)\n",
      "File \u001b[1;32mD:\\work\\huji\\biopandas\\biopandas\\align\\tmalign.py:120\u001b[0m, in \u001b[0;36mTMAlign.tmalign_to\u001b[1;34m(self, target, mobiles, target_chain, mobile_chains)\u001b[0m\n\u001b[0;32m    118\u001b[0m \u001b[38;5;28;01mif\u001b[39;00m \u001b[38;5;28misinstance\u001b[39m(mobiles, PandasPdb):\n\u001b[0;32m    119\u001b[0m     mobile_atoms \u001b[38;5;241m=\u001b[39m \u001b[38;5;28mself\u001b[39m\u001b[38;5;241m.\u001b[39mfilter_and_validate_chain(mobiles, mobile_chains)\n\u001b[1;32m--> 120\u001b[0m     transformed_mobile, tm_score \u001b[38;5;241m=\u001b[39m \u001b[38;5;28mself\u001b[39m\u001b[38;5;241m.\u001b[39mprocess_structure_for_tmalign(target_file, mobile_atoms, mobile_chains)\n\u001b[0;32m    121\u001b[0m     \u001b[38;5;28;01mreturn\u001b[39;00m transformed_mobile, tm_score\n\u001b[0;32m    122\u001b[0m \u001b[38;5;28;01melif\u001b[39;00m  \u001b[38;5;28misinstance\u001b[39m(mobiles, PandasPdbStack):\n",
      "File \u001b[1;32mD:\\work\\huji\\biopandas\\biopandas\\align\\tmalign.py:98\u001b[0m, in \u001b[0;36mTMAlign.process_structure_for_tmalign\u001b[1;34m(self, target_file, mobile_pdb, mobile_chain)\u001b[0m\n\u001b[0;32m     95\u001b[0m     transformed_mobile \u001b[38;5;241m=\u001b[39m \u001b[38;5;28mself\u001b[39m\u001b[38;5;241m.\u001b[39mtransform_coords(transformed_mobile, \u001b[38;5;28mtype\u001b[39m\u001b[38;5;241m=\u001b[39m\u001b[38;5;124m'\u001b[39m\u001b[38;5;124mHETATM\u001b[39m\u001b[38;5;124m'\u001b[39m, matrix\u001b[38;5;241m=\u001b[39mmatrix,\n\u001b[0;32m     96\u001b[0m                                                translation\u001b[38;5;241m=\u001b[39mtranslation)\n\u001b[0;32m     97\u001b[0m \u001b[38;5;66;03m# clean up\u001b[39;00m\n\u001b[1;32m---> 98\u001b[0m os\u001b[38;5;241m.\u001b[39mremove(matrix_file_path\u001b[38;5;241m.\u001b[39mname) \u001b[38;5;28;01mif\u001b[39;00m os\u001b[38;5;241m.\u001b[39mpath\u001b[38;5;241m.\u001b[39mexists(matrix_file_path\u001b[38;5;241m.\u001b[39mname) \u001b[38;5;28;01melse\u001b[39;00m \u001b[38;5;28;01mNone\u001b[39;00m\n\u001b[0;32m     99\u001b[0m os\u001b[38;5;241m.\u001b[39mremove(mobile_file\u001b[38;5;241m.\u001b[39mname) \u001b[38;5;28;01mif\u001b[39;00m os\u001b[38;5;241m.\u001b[39mpath\u001b[38;5;241m.\u001b[39mexists(mobile_file\u001b[38;5;241m.\u001b[39mname) \u001b[38;5;28;01melse\u001b[39;00m \u001b[38;5;28;01mNone\u001b[39;00m\n\u001b[0;32m    101\u001b[0m \u001b[38;5;28;01mreturn\u001b[39;00m transformed_mobile, tm_score\n",
      "\u001b[1;31mAttributeError\u001b[0m: 'str' object has no attribute 'name'"
     ]
    }
   ],
   "source": [
    "from biopandas.align import TMAlign\n",
    "from biopandas.pdb import PandasPdb\n",
    "tmalign = TMAlign()\n",
    "\n",
    "# Align two structures\n",
    "tmalign = TMAlign()\n",
    "ppdb = PandasPdb()\n",
    "ppdb.read_pdb('data/1ycr.pdb')\n",
    "\n",
    "ppdb_mobile = PandasPdb()\n",
    "ppdb_mobile.read_pdb('data/2d7t.pdb')\n",
    "\n",
    "transformed_structure, tm_score = tmalign.tmalign_to(ppdb, ppdb_mobile, 'A', 'H')\n",
    "\n",
    "print('TM-scores:', tm_score)"
   ]
  },
  {
   "cell_type": "markdown",
   "id": "8b6d2815d07dedf0",
   "metadata": {
    "collapsed": false,
    "jupyter": {
     "outputs_hidden": false
    }
   },
   "source": [
    " In case of several mobile structures, either a single chain or a dictionary with chain identifiers can be provided. The returned values are a stack of transformed structures and a dictionary with TM-scores. "
   ]
  },
  {
   "cell_type": "code",
   "execution_count": null,
   "id": "2e9d30505a2d745a",
   "metadata": {
    "ExecuteTime": {
     "start_time": "2024-05-06T11:36:20.124935200Z"
    },
    "collapsed": false,
    "jupyter": {
     "outputs_hidden": false
    }
   },
   "outputs": [],
   "source": [
    "from biopandas.align import TMAlign\n",
    "from biopandas.pdb import PandasPdb\n",
    "from biopandas.stack import PandasPdbStack\n",
    "tmalign = TMAlign()\n",
    "\n",
    "# Align a stack of structures to a target structure\n",
    "tmalign = TMAlign()\n",
    "ppdb = PandasPdb()\n",
    "ppdb.read_pdb('data/1ycr.pdb')\n",
    "\n",
    "ppdb_stack = PandasPdbStack()\n",
    "ppdb_stack.add_pdbs(['data/3eiy.cif.gz', 'data/2d7t.pdb', '4LWV'])\n",
    "\n",
    "transformed_structures, tm_scores = tmalign.tmalign_to(ppdb, ppdb_stack, 'A', {'2d7t': 'H', '3eiy': 'A', '4LWV': 'A'})\n",
    "\n",
    "print('TM-scores:', tm_scores)"
   ]
  },
  {
   "cell_type": "markdown",
   "id": "aeb5445e08d22bb5",
   "metadata": {
    "collapsed": false,
    "jupyter": {
     "outputs_hidden": false
    }
   },
   "source": [
    "### Align two structures using the `run_tmalign` function\n",
    "\n",
    "\n",
    "The `run_tmalign` function takes two PDB file paths as input and returns the path to the matrix file and the TM-score. If no matrix file is written, the path is an automatically generated temporary file. If the directory of the file path does not exist, it is created.\n",
    "The matrix file can be parsed and the rotation-translation matrix can be extracted with the `parse_matrix_file` function.\n",
    "\n",
    "For convenience, this cell exposes the functions of the TMAlign class for custom usage. Running `tmalign_to` is the recommended way to align structures."
   ]
  },
  {
   "cell_type": "code",
   "execution_count": null,
   "id": "7c96e6b8ca169714",
   "metadata": {
    "ExecuteTime": {
     "start_time": "2024-05-06T11:36:20.125948300Z"
    },
    "collapsed": false,
    "jupyter": {
     "outputs_hidden": false
    }
   },
   "outputs": [],
   "source": [
    "from biopandas.align import TMAlign\n",
    "tmalign = TMAlign()\n",
    "matrix_file_path, tm_score = tmalign.run_tmalign('data/1ycr.pdb', 'data/2d7t.pdb', 'data/tmalign_output/tmalign_matrix.txt')\n",
    "matrix, translation = tmalign.parse_tmalign_rotation_matrix(matrix_file_path)\n",
    "\n",
    "print('Matrix:\\n', matrix)\n",
    "print('Translation:', translation)\n",
    "print('TM-score:', tm_score)\n",
    "\n",
    "# To apply this transformation to the coordinates of the second structure, the `transform` function can be used\n",
    "coords = np.array([[1, 2, 3], [4, 5, 6], [7, 8, 9]])\n",
    "transformed_coords = align.transform(coords, matrix, translation)\n",
    "\n",
    "# Check new coordinates\n",
    "print('Transformed coordinates:\\n', transformed_coords)"
   ]
  },
  {
   "cell_type": "markdown",
   "id": "cf1d3c1a82f928d2",
   "metadata": {
    "collapsed": false,
    "jupyter": {
     "outputs_hidden": false
    }
   },
   "source": [
    "## Alignment of all PDB structures in a stack\n",
    "\n",
    "A wrapper around `tmalign_to` is provided to align all PDB structures in a PandasPdbStack object to a member of the stack. For performing this alignment, all structures must have only one chain. The chains can be filtered with the stack's `apply_filter` function if necessary."
   ]
  },
  {
   "cell_type": "code",
   "execution_count": null,
   "id": "30c16557268e0715",
   "metadata": {
    "ExecuteTime": {
     "start_time": "2024-05-06T11:36:20.127946900Z"
    },
    "collapsed": false,
    "jupyter": {
     "outputs_hidden": false
    }
   },
   "outputs": [],
   "source": [
    "from biopandas.stack import PandasPdbStack\n",
    "stack = PandasPdbStack()\n",
    "stack.add_pdbs(['1ycr', '2d7t', '3eiy', '4LWV'])\n",
    "\n",
    "chains = {'1ycr': 'A', '2d7t': 'H', '3eiy': 'A', '4LWV': 'A'}\n",
    "\n",
    "# Align all structures to the first one and show TM-scores\n",
    "tmalign = TMAlign()\n",
    "target_pdb_id, transformed_structures, tm_scores = tmalign.tmalign_in_stack(stack, chains)\n",
    "print(f'TM_scores to {target_pdb_id}: {tm_scores}')\n",
    "\n",
    "# Write out the transformed structures\n",
    "transformed_structures.write_entries('data/aligned_structures/')"
   ]
  },
  {
   "cell_type": "code",
   "execution_count": null,
   "id": "fbed832d8dcb9c91",
   "metadata": {
    "ExecuteTime": {
     "end_time": "2024-05-06T11:36:20.130945600Z",
     "start_time": "2024-05-06T11:36:20.129948200Z"
    },
    "collapsed": false,
    "jupyter": {
     "outputs_hidden": false
    }
   },
   "outputs": [],
   "source": [
    "# Align all structures to a specified one and show TM-scores\n",
    "target_pdb_id, transformed_structures, tm_scores = tmalign.tmalign_in_stack(stack, chains, target='2d7t')\n",
    "print(f'TM_scores to {target_pdb_id}: {tm_scores}')"
   ]
  }
 ],
 "metadata": {
  "kernelspec": {
   "display_name": "Python 3 (ipykernel)",
   "language": "python",
   "name": "python3"
  },
  "language_info": {
   "codemirror_mode": {
    "name": "ipython",
    "version": 3
   },
   "file_extension": ".py",
   "mimetype": "text/x-python",
   "name": "python",
   "nbconvert_exporter": "python",
   "pygments_lexer": "ipython3",
   "version": "3.11.9"
  }
 },
 "nbformat": 4,
 "nbformat_minor": 5
}
